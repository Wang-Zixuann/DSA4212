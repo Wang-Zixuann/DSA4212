{
 "cells": [
  {
   "cell_type": "code",
   "execution_count": 1,
   "id": "fa0bfebd-4a5a-43c0-bd8d-42256c292028",
   "metadata": {},
   "outputs": [],
   "source": [
    "import numpy as np"
   ]
  },
  {
   "cell_type": "code",
   "execution_count": 2,
   "id": "950c5ef7-10ba-4a69-91c2-b62f00d06d50",
   "metadata": {},
   "outputs": [],
   "source": [
    "data = open(\"C:/Users/Li Yuxin/DSA4212/Assignment 3/HP1_paragraph.txt\").read().lower()"
   ]
  },
  {
   "cell_type": "code",
   "execution_count": 3,
   "id": "65ed17ce-3e3d-485a-8e07-259636d26a6e",
   "metadata": {},
   "outputs": [
    {
     "data": {
      "text/plain": [
       "273"
      ]
     },
     "execution_count": 3,
     "metadata": {},
     "output_type": "execute_result"
    }
   ],
   "source": [
    "words = data.split()\n",
    "len(words)"
   ]
  },
  {
   "cell_type": "code",
   "execution_count": 4,
   "id": "929afc35-400f-4cef-83f0-c63d3da02396",
   "metadata": {},
   "outputs": [],
   "source": [
    "split_index = int(0.8 * len(words))\n",
    "\n",
    "train_data = words[:split_index]\n",
    "test_data = words[split_index:]"
   ]
  },
  {
   "cell_type": "code",
   "execution_count": 5,
   "id": "3c82cca2-8fac-42a6-a7d8-6d2df8cd0252",
   "metadata": {},
   "outputs": [
    {
     "data": {
      "text/plain": [
       "120"
      ]
     },
     "execution_count": 5,
     "metadata": {},
     "output_type": "execute_result"
    }
   ],
   "source": [
    "len(set(train_data)-set(test_data))"
   ]
  },
  {
   "cell_type": "code",
   "execution_count": 6,
   "id": "a8aa6bd1-c3f4-49d4-95a6-24fea4f55b8e",
   "metadata": {},
   "outputs": [
    {
     "data": {
      "text/plain": [
       "24"
      ]
     },
     "execution_count": 6,
     "metadata": {},
     "output_type": "execute_result"
    }
   ],
   "source": [
    "len(set(test_data)-set(train_data))"
   ]
  },
  {
   "cell_type": "code",
   "execution_count": 7,
   "id": "4e567049-f69f-48b8-b589-3783347703cd",
   "metadata": {},
   "outputs": [],
   "source": [
    "word_set = set(words)\n",
    "word_to_idx = {w:i for i, w in enumerate(word_set)}\n",
    "idx_to_word = {i:w for i, w in enumerate(word_set)}"
   ]
  },
  {
   "cell_type": "code",
   "execution_count": 8,
   "id": "7b511d4e-3bd0-4b51-a9e7-7ee6c3135b8a",
   "metadata": {},
   "outputs": [],
   "source": [
    "word_size = len(word_set)"
   ]
  },
  {
   "cell_type": "code",
   "execution_count": 9,
   "id": "f7059909-6a3c-4ce7-8389-380f745c9ce5",
   "metadata": {},
   "outputs": [],
   "source": [
    "def oneHotEncode(text):\n",
    "    output = np.zeros((word_size, 1))\n",
    "    output[word_to_idx[text]] = 1\n",
    "\n",
    "    return output\n",
    "\n",
    "# Xavier Normalized Initialization\n",
    "def initWeights(input_size, output_size):\n",
    "    return np.random.uniform(-1, 1, (output_size, input_size)) * np.sqrt(6 / (input_size + output_size))\n",
    "\n",
    "##### Activation Functions #####\n",
    "def sigmoid(input, derivative = False):\n",
    "    if derivative:\n",
    "        return input * (1 - input)\n",
    "    \n",
    "    return 1 / (1 + np.exp(-input))\n",
    "\n",
    "def tanh(input, derivative = False):\n",
    "    if derivative:\n",
    "        return 1 - input ** 2\n",
    "    \n",
    "    return np.tanh(input)\n",
    "\n",
    "def softmax(input):\n",
    "    return np.exp(input) / np.sum(np.exp(input))\n",
    "\n",
    "##### Long Short-Term Memory Network Class #####\n",
    "class LSTM:\n",
    "    def __init__(self, input_size, hidden_size, output_size, num_epochs, learning_rate):\n",
    "        # Hyperparameters\n",
    "        self.learning_rate = learning_rate\n",
    "        self.hidden_size = hidden_size\n",
    "        self.num_epochs = num_epochs\n",
    "\n",
    "        # Forget Gate\n",
    "        self.wf = initWeights(input_size, hidden_size)\n",
    "        self.bf = np.zeros((hidden_size, 1))\n",
    "\n",
    "        # Input Gate\n",
    "        self.wi = initWeights(input_size, hidden_size)\n",
    "        self.bi = np.zeros((hidden_size, 1))\n",
    "\n",
    "        # Candidate Gate\n",
    "        self.wc = initWeights(input_size, hidden_size)\n",
    "        self.bc = np.zeros((hidden_size, 1))\n",
    "\n",
    "        # Output Gate\n",
    "        self.wo = initWeights(input_size, hidden_size)\n",
    "        self.bo = np.zeros((hidden_size, 1))\n",
    "\n",
    "        # Final Gate\n",
    "        self.wy = initWeights(hidden_size, output_size)\n",
    "        self.by = np.zeros((output_size, 1))\n",
    "\n",
    "    # Reset Network Memory\n",
    "    def reset(self):\n",
    "        self.concat_inputs = {}\n",
    "\n",
    "        self.hidden_states = {-1:np.zeros((self.hidden_size, 1))}\n",
    "        self.cell_states = {-1:np.zeros((self.hidden_size, 1))}\n",
    "\n",
    "        self.activation_outputs = {}\n",
    "        self.candidate_gates = {}\n",
    "        self.output_gates = {}\n",
    "        self.forget_gates = {}\n",
    "        self.input_gates = {}\n",
    "        self.outputs = {}\n",
    "\n",
    "    # Forward Propogation\n",
    "    def forward(self, inputs):\n",
    "        self.reset()\n",
    "\n",
    "        outputs = []\n",
    "        for q in range(len(inputs)):\n",
    "            self.concat_inputs[q] = np.concatenate((self.hidden_states[q - 1], inputs[q]))\n",
    "\n",
    "            self.forget_gates[q] = sigmoid(np.dot(self.wf, self.concat_inputs[q]) + self.bf)\n",
    "            self.input_gates[q] = sigmoid(np.dot(self.wi, self.concat_inputs[q]) + self.bi)\n",
    "            self.candidate_gates[q] = tanh(np.dot(self.wc, self.concat_inputs[q]) + self.bc)\n",
    "            self.output_gates[q] = sigmoid(np.dot(self.wo, self.concat_inputs[q]) + self.bo)\n",
    "\n",
    "            self.cell_states[q] = self.forget_gates[q] * self.cell_states[q - 1] + self.input_gates[q] * self.candidate_gates[q]\n",
    "            self.hidden_states[q] = self.output_gates[q] * tanh(self.cell_states[q])\n",
    "\n",
    "            outputs += [np.dot(self.wy, self.hidden_states[q]) + self.by]\n",
    "\n",
    "        return outputs\n",
    "\n",
    "    # Backward Propogation\n",
    "    def backward(self, errors, inputs):\n",
    "        d_wf, d_bf = 0, 0\n",
    "        d_wi, d_bi = 0, 0\n",
    "        d_wc, d_bc = 0, 0\n",
    "        d_wo, d_bo = 0, 0\n",
    "        d_wy, d_by = 0, 0\n",
    "\n",
    "        dh_next, dc_next = np.zeros_like(self.hidden_states[0]), np.zeros_like(self.cell_states[0])\n",
    "        for q in reversed(range(len(inputs))):\n",
    "            error = errors[q]\n",
    "\n",
    "            # Final Gate Weights and Biases Errors\n",
    "            d_wy += np.dot(error, self.hidden_states[q].T)\n",
    "            d_by += error\n",
    "\n",
    "            # Hidden State Error\n",
    "            d_hs = np.dot(self.wy.T, error) + dh_next\n",
    "\n",
    "            # Output Gate Weights and Biases Errors\n",
    "            d_o = tanh(self.cell_states[q]) * d_hs * sigmoid(self.output_gates[q], derivative = True)\n",
    "            d_wo += np.dot(d_o, inputs[q].T)\n",
    "            d_bo += d_o\n",
    "\n",
    "            # Cell State Error\n",
    "            d_cs = tanh(tanh(self.cell_states[q]), derivative = True) * self.output_gates[q] * d_hs + dc_next\n",
    "\n",
    "            # Forget Gate Weights and Biases Errors\n",
    "            d_f = d_cs * self.cell_states[q - 1] * sigmoid(self.forget_gates[q], derivative = True)\n",
    "            d_wf += np.dot(d_f, inputs[q].T)\n",
    "            d_bf += d_f\n",
    "\n",
    "            # Input Gate Weights and Biases Errors\n",
    "            d_i = d_cs * self.candidate_gates[q] * sigmoid(self.input_gates[q], derivative = True)\n",
    "            d_wi += np.dot(d_i, inputs[q].T)\n",
    "            d_bi += d_i\n",
    "            \n",
    "            # Candidate Gate Weights and Biases Errors\n",
    "            d_c = d_cs * self.input_gates[q] * tanh(self.candidate_gates[q], derivative = True)\n",
    "            d_wc += np.dot(d_c, inputs[q].T)\n",
    "            d_bc += d_c\n",
    "\n",
    "            # Concatenated Input Error (Sum of Error at Each Gate!)\n",
    "            d_z = np.dot(self.wf.T, d_f) + np.dot(self.wi.T, d_i) + np.dot(self.wc.T, d_c) + np.dot(self.wo.T, d_o)\n",
    "\n",
    "            # Error of Hidden State and Cell State at Next Time Step\n",
    "            dh_next = d_z[:self.hidden_size, :]\n",
    "            dc_next = self.forget_gates[q] * d_cs\n",
    "\n",
    "        for d_ in (d_wf, d_bf, d_wi, d_bi, d_wc, d_bc, d_wo, d_bo, d_wy, d_by):\n",
    "            np.clip(d_, -1, 1, out = d_)\n",
    "\n",
    "        self.wf += d_wf * self.learning_rate\n",
    "        self.bf += d_bf * self.learning_rate\n",
    "\n",
    "        self.wi += d_wi * self.learning_rate\n",
    "        self.bi += d_bi * self.learning_rate\n",
    "\n",
    "        self.wc += d_wc * self.learning_rate\n",
    "        self.bc += d_bc * self.learning_rate\n",
    "\n",
    "        self.wo += d_wo * self.learning_rate\n",
    "        self.bo += d_bo * self.learning_rate\n",
    "\n",
    "        self.wy += d_wy * self.learning_rate\n",
    "        self.by += d_by * self.learning_rate\n",
    "\n",
    "    # Train\n",
    "    def train(self, inputs, labels):\n",
    "        inputs = [oneHotEncode(input) for input in inputs]\n",
    "        loss_sum = []\n",
    "        loss_mean = []\n",
    "        accuracies = []\n",
    "\n",
    "        for _ in range(self.num_epochs):\n",
    "            predictions = self.forward(inputs)\n",
    "\n",
    "            errors = []\n",
    "            accuracy = 0\n",
    "            for q in range(len(predictions)):\n",
    "                errors += [-softmax(predictions[q])]\n",
    "                errors[-1][word_to_idx[labels[q]]] += 1\n",
    "                prediction = str(idx_to_word[np.random.choice([*range(word_size)], p = softmax(predictions[q].reshape(-1)))])\n",
    "                \n",
    "                if prediction == labels[q]:\n",
    "                    accuracy += 1\n",
    "\n",
    "            loss_sum.append(np.sum([e**2 for e in errors]))\n",
    "            loss_mean.append(np.mean([e**2 for e in errors]))\n",
    "            accuracies.append((accuracy/len(labels))*100)\n",
    "            \n",
    "            if (_ == 0) | ((_+1)%20==0):\n",
    "                print(f\"Epoch: {_+1}, Loss (sum): {loss_sum[_]}, Loss (mean): {loss_mean[_]}, Accuracy: {accuracies[_]} \\n\")\n",
    "                \n",
    "            self.backward(errors, self.concat_inputs)\n",
    "            \n",
    "        return loss_sum, loss_mean, accuracies\n",
    "    \n",
    "    # Test\n",
    "    def test(self, inputs, labels):\n",
    "        accuracy = 0\n",
    "        predictions = self.forward([oneHotEncode(input) for input in inputs])\n",
    "\n",
    "        output = []\n",
    "        for q in range(len(labels)):\n",
    "            prediction = str(idx_to_word[np.random.choice([*range(word_size)], p = softmax(predictions[q].reshape(-1)))])\n",
    "\n",
    "            output.append(prediction)\n",
    "\n",
    "            if prediction == labels[q]:\n",
    "                accuracy += 1\n",
    "\n",
    "        print(f'Ground Truth:\\nt{labels}\\n')\n",
    "        print(f'Predictions:\\nt{output}\\n')\n",
    "        \n",
    "        print(f'Accuracy: {round(accuracy * 100 / len(labels), 2)}%')"
   ]
  },
  {
   "cell_type": "code",
   "execution_count": 10,
   "id": "5fb1b799-bb74-4b62-bddf-526e0a00e377",
   "metadata": {
    "scrolled": true
   },
   "outputs": [
    {
     "name": "stdout",
     "output_type": "stream",
     "text": [
      "Epoch: 1, Loss (sum): 215.67931386745488, Loss (mean): 0.006060450541403138, Accuracy: 0.0 \n",
      "\n",
      "Epoch: 20, Loss (sum): 214.02613877911924, Loss (mean): 0.006013997380552974, Accuracy: 0.4608294930875576 \n",
      "\n",
      "Epoch: 40, Loss (sum): 210.43474141955306, Loss (mean): 0.005913081415633165, Accuracy: 4.147465437788019 \n",
      "\n",
      "Epoch: 60, Loss (sum): 179.31854160072095, Loss (mean): 0.005038736135796362, Accuracy: 11.981566820276496 \n",
      "\n",
      "Epoch: 80, Loss (sum): 99.82795158843606, Loss (mean): 0.0028051014833212337, Accuracy: 37.78801843317972 \n",
      "\n",
      "Epoch: 100, Loss (sum): 37.498229147852875, Loss (mean): 0.0010536762152369584, Accuracy: 62.67281105990783 \n",
      "\n",
      "Epoch: 120, Loss (sum): 11.776519969648438, Loss (mean): 0.0003309126663383286, Accuracy: 78.80184331797236 \n",
      "\n",
      "Epoch: 140, Loss (sum): 4.269765821285891, Loss (mean): 0.00011997768408693637, Accuracy: 91.24423963133641 \n",
      "\n",
      "Epoch: 160, Loss (sum): 1.718626507385474, Loss (mean): 4.8292303793005344e-05, Accuracy: 91.70506912442397 \n",
      "\n",
      "Epoch: 180, Loss (sum): 0.8660333161991177, Loss (mean): 2.4334981347620483e-05, Accuracy: 95.85253456221197 \n",
      "\n",
      "Epoch: 200, Loss (sum): 0.5494404328370524, Loss (mean): 1.543892415525043e-05, Accuracy: 96.31336405529954 \n",
      "\n",
      "Epoch: 220, Loss (sum): 0.3735506496788424, Loss (mean): 1.0496533935001753e-05, Accuracy: 99.07834101382488 \n",
      "\n",
      "Epoch: 240, Loss (sum): 0.26506182851483384, Loss (mean): 7.448067565326341e-06, Accuracy: 98.15668202764977 \n",
      "\n",
      "Epoch: 260, Loss (sum): 0.19873496986184394, Loss (mean): 5.584325330500279e-06, Accuracy: 99.07834101382488 \n",
      "\n",
      "Epoch: 280, Loss (sum): 0.15389183618604863, Loss (mean): 4.324262003654283e-06, Accuracy: 97.6958525345622 \n",
      "\n",
      "Epoch: 300, Loss (sum): 0.12252495625555762, Loss (mean): 3.4428727732819382e-06, Accuracy: 98.61751152073732 \n",
      "\n",
      "Epoch: 320, Loss (sum): 0.09978701443792604, Loss (mean): 2.8039511756189174e-06, Accuracy: 98.61751152073732 \n",
      "\n",
      "Epoch: 340, Loss (sum): 0.08268281854385472, Loss (mean): 2.323334229061895e-06, Accuracy: 99.53917050691244 \n",
      "\n",
      "Epoch: 360, Loss (sum): 0.06954846844509842, Loss (mean): 1.9542674060104086e-06, Accuracy: 98.15668202764977 \n",
      "\n",
      "Epoch: 380, Loss (sum): 0.059235706444304245, Loss (mean): 1.6644854008178106e-06, Accuracy: 98.15668202764977 \n",
      "\n",
      "Epoch: 400, Loss (sum): 0.0510072973077323, Loss (mean): 1.4332723757371107e-06, Accuracy: 98.61751152073732 \n",
      "\n",
      "Epoch: 420, Loss (sum): 0.044346455296220076, Loss (mean): 1.2461069825845812e-06, Accuracy: 98.61751152073732 \n",
      "\n",
      "Epoch: 440, Loss (sum): 0.038883341082816304, Loss (mean): 1.0925969732161489e-06, Accuracy: 97.23502304147466 \n",
      "\n",
      "Epoch: 460, Loss (sum): 0.03435040858521353, Loss (mean): 9.652244741264901e-07, Accuracy: 99.07834101382488 \n",
      "\n",
      "Epoch: 480, Loss (sum): 0.030550471016236924, Loss (mean): 8.584486629267428e-07, Accuracy: 98.61751152073732 \n",
      "\n",
      "Epoch: 500, Loss (sum): 0.027335553969943218, Loss (mean): 7.68111553611982e-07, Accuracy: 100.0 \n",
      "\n"
     ]
    }
   ],
   "source": [
    "# Initialize Network\n",
    "hidden_size = 25\n",
    "lstm = LSTM(input_size = word_size + hidden_size, hidden_size = hidden_size, output_size = word_size, num_epochs = 500, learning_rate = 0.05)\n",
    "\n",
    "##### Training #####\n",
    "train_X, train_y = train_data[:-1], train_data[1:]\n",
    "train_loss_sum, train_loss_mean, train_accuracy = lstm.train(train_X, train_y)"
   ]
  },
  {
   "cell_type": "code",
   "execution_count": 11,
   "id": "3a7d6cc3-6306-422a-aaa5-08410aaaa65b",
   "metadata": {
    "scrolled": true
   },
   "outputs": [
    {
     "name": "stdout",
     "output_type": "stream",
     "text": [
      "Ground Truth:\n",
      "t['potter', 'and', 'the', \"sorcerer's\", 'stone', 'chapter', 'one', 'the', 'boy', 'who', 'lived', 'mr.', 'and', 'mrs.', 'dursley,', 'of', 'number', 'four,', 'privet', 'drive,', 'were', 'proud', 'to', 'say', 'that', 'they', 'were', 'perfectly', 'normal,', 'thank', 'you', 'very', 'much.', 'they', 'were', 'the', 'last', 'people', \"you'd\", 'expect', 'to', 'be', 'involved', 'in', 'anything', 'strange', 'or', 'mysterious,', 'because', 'they', 'just', \"didn't\", 'hold', 'with', 'such', 'nonsense.', 'mr.', 'dursley', 'was', 'the', 'director', 'of', 'a', 'firm', 'called', 'grunnings,', 'which', 'made', 'drills.', 'he', 'was', 'a', 'big,', 'beefy', 'man', 'with', 'hardly', 'any', 'neck,', 'although', 'he', 'did', 'have', 'a', 'very', 'large', 'mustache.', 'mrs.', 'dursley', 'was', 'thin', 'and', 'blonde', 'and', 'had', 'nearly', 'twice', 'the', 'usual', 'amount', 'of', 'neck,', 'which', 'came', 'in', 'very', 'useful', 'as', 'she', 'spent', 'so', 'much', 'of', 'her', 'time', 'craning', 'over', 'garden', 'fences,', 'spying', 'on', 'the', 'neighbors.', 'the', 'dursleys', 'had', 'a', 'small', 'son', 'called', 'dudley', 'and', 'in', 'their', 'opinion', 'there', 'was', 'no', 'finer', 'boy', 'anywhere.', 'the', 'dursleys', 'had', 'everything', 'they', 'wanted,', 'but', 'they', 'also', 'had', 'a', 'secret,', 'and', 'their', 'greatest', 'fear', 'was', 'that', 'somebody', 'would', 'discover', 'it.', 'they', \"didn't\", 'think', 'they', 'could', 'bear', 'it', 'if', 'anyone', 'found', 'out', 'about', 'the', 'potters.', 'mrs.', 'potter', 'was', 'mrs.', \"dursley's\", 'sister,', 'but', 'they', \"hadn't\", 'met', 'for', 'several', 'years;', 'in', 'fact,', 'mrs.', 'dursley', 'pretended', 'she', \"didn't\", 'have', 'a', 'sister,', 'because', 'her', 'sister', 'and', 'her', 'good-for-nothing', 'husband', 'were', 'as', 'undursleyish', 'as', 'it', 'was', 'possible', 'to', 'be.', 'the']\n",
      "\n",
      "Predictions:\n",
      "t['potter', 'and', 'the', \"sorcerer's\", 'stone', 'chapter', 'one', 'the', 'boy', 'who', 'lived', 'mr.', 'and', 'mrs.', 'dursley,', 'of', 'number', 'four,', 'privet', 'drive,', 'were', 'proud', 'to', 'say', 'that', 'they', 'were', 'perfectly', 'normal,', 'thank', 'you', 'very', 'much.', 'they', 'were', 'the', 'last', 'people', \"you'd\", 'expect', 'to', 'be', 'involved', 'in', 'anything', 'strange', 'or', 'mysterious,', 'because', 'they', 'just', \"didn't\", 'hold', 'with', 'such', 'nonsense.', 'mr.', 'dursley', 'was', 'the', 'director', 'of', 'a', 'firm', 'called', 'grunnings,', 'which', 'made', 'drills.', 'he', 'was', 'a', 'big,', 'beefy', 'man', 'with', 'hardly', 'any', 'neck,', 'although', 'he', 'did', 'have', 'a', 'very', 'large', 'mustache.', 'mrs.', 'dursley', 'was', 'thin', 'and', 'and', 'and', 'had', 'nearly', 'twice', 'the', 'usual', 'amount', 'of', 'neck,', 'which', 'came', 'in', 'very', 'useful', 'as', 'she', 'spent', 'so', 'much', 'of', 'her', 'time', 'craning', 'over', 'garden', 'fences,', 'spying', 'on', 'the', 'neighbors.', 'the', 'dursleys', 'had', 'a', 'small', 'son', 'called', 'dudley', 'and', 'in', 'their', 'opinion', 'there', 'was', 'no', 'finer', 'boy', 'anywhere.', 'the', 'dursleys', 'had', 'everything', 'they', 'wanted,', 'but', 'they', 'also', 'had', 'a', 'secret,', 'and', 'their', 'greatest', 'fear', 'was', 'that', 'somebody', 'would', 'discover', 'it.', 'they', \"didn't\", 'think', 'they', 'could', 'bear', 'it', 'if', 'anyone', 'found', 'out', 'about', 'the', 'potters.', 'mrs.', 'potter', 'was', 'mrs.', \"dursley's\", 'sister,', 'but', 'they', \"hadn't\", 'met', 'for', 'several', 'years;', 'in', 'fact,', 'mrs.', 'dursley', 'pretended', 'she', \"didn't\", 'have', 'a', 'sister,', 'because', 'her', 'sister', 'and', 'her', 'good-for-nothing', 'husband', 'were', 'as', 'undursleyish', 'as', 'it', 'was', 'possible', 'to', 'be.', 'the']\n",
      "\n",
      "Accuracy: 99.54%\n"
     ]
    }
   ],
   "source": [
    "lstm.test(train_data[:-1], train_data[1:])"
   ]
  },
  {
   "cell_type": "code",
   "execution_count": 12,
   "id": "75673dc1-3d62-4985-a9bf-cf03b61b109c",
   "metadata": {},
   "outputs": [
    {
     "name": "stdout",
     "output_type": "stream",
     "text": [
      "Ground Truth:\n",
      "t['shuddered', 'to', 'think', 'what', 'the', 'neighbors', 'would', 'say', 'if', 'the', 'potters', 'arrived', 'in', 'the', 'street.', 'the', 'dursleys', 'knew', 'that', 'the', 'potters', 'had', 'a', 'small', 'son,', 'too,', 'but', 'they', 'had', 'never', 'even', 'seen', 'him.', 'this', 'boy', 'was', 'another', 'good', 'reason', 'for', 'keeping', 'the', 'potters', 'away;', 'they', \"didn't\", 'want', 'dudley', 'mixing', 'with', 'a', 'child', 'like', 'that.']\n",
      "\n",
      "Predictions:\n",
      "t['had', 'everything', 'years;', 'they', 'a', 'mrs.', 'mrs.', 'as', 'was', 'man', 'who', 'much', 'a', 'a', 'strange', 'mrs.', 'dursleys', 'had', 'of', 'a', 'boy', 'had', 'a', 'firm', 'son', 'mrs.', 'or', 'she', \"didn't\", 'a', 'with', 'man', 'such', 'any', 'nonsense.', 'dursley', 'the', 'was', 'to', 'to', 'a', 'her', 'man', 'mrs.', 'dursley', \"didn't\", 'have', 'have', 'a', 'a', 'four,', 'dudley', 'twice', 'he']\n",
      "\n",
      "Accuracy: 7.41%\n"
     ]
    }
   ],
   "source": [
    "test_X, test_y = test_data[:-1], test_data[1:]\n",
    "lstm.test(test_X, test_y)"
   ]
  },
  {
   "cell_type": "code",
   "execution_count": 13,
   "id": "d79ebd68-9215-4bcd-9866-c629646612d7",
   "metadata": {},
   "outputs": [
    {
     "data": {
      "text/plain": [
       "Text(0, 0.5, 'training loss')"
      ]
     },
     "execution_count": 13,
     "metadata": {},
     "output_type": "execute_result"
    },
    {
     "data": {
      "image/png": "[encoded data removed]",
      "text/plain": [
       "<Figure size 640x480 with 1 Axes>"
      ]
     },
     "metadata": {},
     "output_type": "display_data"
    }
   ],
   "source": [
    "import pylab as plt\n",
    "\n",
    "plt.plot([i for i in range(len(train_loss_sum))], train_loss_sum)\n",
    "plt.xlabel(\"#training iterations\")\n",
    "plt.ylabel(\"training loss\")"
   ]
  },
  {
   "cell_type": "code",
   "execution_count": 15,
   "id": "1699c0f4-9abe-4dfe-b465-a4f4d092f233",
   "metadata": {},
   "outputs": [
    {
     "data": {
      "text/plain": [
       "Text(0, 0.5, 'mean training loss')"
      ]
     },
     "execution_count": 15,
     "metadata": {},
     "output_type": "execute_result"
    },
    {
     "data": {
      "image/png": "[encoded data removed]",
      "text/plain": [
       "<Figure size 640x480 with 1 Axes>"
      ]
     },
     "metadata": {},
     "output_type": "display_data"
    }
   ],
   "source": [
    "plt.plot([i for i in range(len(train_loss_mean))], train_loss_mean)\n",
    "plt.xlabel(\"#training iterations\")\n",
    "plt.ylabel(\"mean training loss\")"
   ]
  },
  {
   "cell_type": "code",
   "execution_count": 16,
   "id": "812d49c7-3791-4dca-9f36-c0a5ee43104b",
   "metadata": {
    "scrolled": true
   },
   "outputs": [
    {
     "name": "stdout",
     "output_type": "stream",
     "text": [
      "Ground Truth:\n",
      "t['but' 'discover' 'have' 'they' 'mrs.' 'in' 'years;' 'they' 'be.' 'but'\n",
      " 'the' 'was' 'to' 'much' 'fences,' 'because' 'in' 'came' 'a' 'made'\n",
      " 'nearly' 'neighbors.' 'she' 'it' 'fear' 'mrs.' 'very' 'was' 'fact,' 'and'\n",
      " \"didn't\" 'who' 'they' 'mrs.' 'a' 'potter' 'a' 'about' 'of' 'and'\n",
      " \"dursley's\" 'dudley' 'dursley' 'good-for-nothing' 'opinion' 'it.' 'the'\n",
      " 'to' 'with' 'the' 'there' 'much.' 'called' 'it' 'think' 'anyone' 'called'\n",
      " 'which' 'everything' 'somebody' 'did' 'dursley,' 'mr.' 'they' 'to'\n",
      " 'sister,' 'mustache.' 'in' 'the' 'the' 'very' 'mysterious,' 'lived'\n",
      " 'neck,' 'a' 'mrs.' 'or' 'privet' 'boy' 'harry' 'sister,' 'was' 'thank'\n",
      " 'mr.' 'boy' 'met' 'and' 'thin' 'had' 'be' 'son' 'the' 'beefy' 'say'\n",
      " 'with' 'potter' 'was' 'small' 'grunnings,' 'for' 'was' 'he' 'such' 'was'\n",
      " 'normal,' 'bear' 'were' 'were' 'the' \"hadn't\" 'the' 'twice' 'drills.'\n",
      " 'man' 'drive,' 'garden' 'as' 'her' 'were' 'anywhere.' 'as' 'that'\n",
      " 'number' 'because' 'people' 'perfectly' 'he' 'their' 'that' 'secret,'\n",
      " 'so' 'in' \"didn't\" 'possible' 'dursley' 'neck,' 'of' 'anything' 'were'\n",
      " 'a' 'pretended' 'stone' 'the' 'have' 'and' 'expect' 'blonde' 'useful'\n",
      " 'they' 'although' 'had' 'sister' 'if' \"didn't\" 'and' 'director' 'which'\n",
      " 'big,' 'could' 'proud' 'and' 'would' 'very' 'she' 'wanted,' 'hardly'\n",
      " 'they' 'usual' 'over' 'craning' 'spent' 'dursleys' 'nonsense.' 'her'\n",
      " 'was' 'found' 'dursleys' 'amount' 'you' 'spying' 'of' 'dursley' 'strange'\n",
      " 'time' 'on' 'had' 'large' 'they' 'involved' 'hold' 'her' 'out' 'they'\n",
      " \"sorcerer's\" 'the' 'four,' 'firm' 'husband' 'as' 'several' 'finer' 'mrs.'\n",
      " 'potters.' 'a' \"you'd\" 'chapter' 'any' 'no' 'of' 'their' 'last' 'had'\n",
      " 'one' 'also' 'just' 'undursleyish' 'and']\n",
      "\n",
      "Predictions:\n",
      "t['although', 'they', 'have', 'a', 'a', 'dursley', 'sister,', 'called', \"hadn't\", 'the', 'they', 'with', 'mrs.', 'people', 'of', 'expect', 'had', 'anything', 'in', 'anything', 'strange', 'or', 'there', 'no', 'was', 'was', 'of', 'her', 'the', 'the', 'had', 'the', 'amount', 'were', 'dursley', 'dursley', 'mrs.', 'called', 'because', 'no', 'her', 'dudley', 'and', 'her', 'husband', 'twice', 'was', 'usual', 'the', 'they', 'boy', 'was', 'a', 'everything', 'they', 'they', 'out', 'a', 'drills.', 'mrs.', 'he', 'mrs.', 'a', 'sister,', 'just', 'man', 'a', 'with', 'spying', 'neighbors.', 'who', 'in', 'the', 'one', 'and', 'because', 'because', 'mrs.', 'no', 'four,', 'of', 'and', 'the', 'the', 'the', \"hadn't\", 'which', 'had', 'and', 'and', 'and', 'their', 'strange', 'finer', 'finer', 'chapter', 'somebody', 'the', 'the', 'everything', 'everything', 'wanted,', 'in', 'mr.', 'mrs.', 'he', 'was', 'the', 'as', 'boy', 'so', 'much', 'much', 'she', 'her', 'her', 'fences,', 'her', 'and', 'and', 'the', 'the', 'over', 'met', 'met', 'with', 'because', 'mrs.', 'dursley', 'dursley', 'and', 'was', 'the', 'the', 'the', 'the', 'dudley', 'which', 'opinion', 'mrs.', 'big,', 'because', 'just', 'man', 'that', 'her', 'of', 'the', 'the', 'the', 'the', 'a', 'but', 'be', 'involved', 'in', 'anything', 'grunnings,', 'which', 'drills.', 'very', 'he', 'husband', 'or', \"didn't\", \"dursley's\", 'discover', 'that', 'they', 'mr.', 'mr.', 'thin', 'had', 'out', 'very', 'and', 'the', 'undursleyish', 'dursley', 'mrs.', \"dursley's\", 'number', 'number', 'no', 'somebody', 'wanted,', 'everything', 'they', 'wanted,', 'they', 'found', 'fact,', 'grunnings,', 'were', 'any', 'dursleys', 'the', 'of', 'a', 'they', 'called', 'mrs.', 'dursley', 'was', 'was', 'sister,', 'but', 'four,', 'her', 'neck,', 'twice', 'usual', 'perfectly', 'the', 'discover', 'who', 'they']\n",
      "\n",
      "Accuracy: 2.3%\n"
     ]
    }
   ],
   "source": [
    "import random\n",
    "train_data_shuffled = np.copy(train_data)\n",
    "random.shuffle(train_data_shuffled)\n",
    "\n",
    "lstm.test(train_data_shuffled[:-1], train_data_shuffled[1:])"
   ]
  },
  {
   "cell_type": "code",
   "execution_count": null,
   "id": "5c39bb99-8459-4876-a970-d93e6972ad5d",
   "metadata": {},
   "outputs": [],
   "source": []
  }
 ],
 "metadata": {
  "kernelspec": {
   "display_name": "Python 3 (ipykernel)",
   "language": "python",
   "name": "python3"
  },
  "language_info": {
   "codemirror_mode": {
    "name": "ipython",
    "version": 3
   },
   "file_extension": ".py",
   "mimetype": "text/x-python",
   "name": "python",
   "nbconvert_exporter": "python",
   "pygments_lexer": "ipython3",
   "version": "3.9.18"
  }
 },
 "nbformat": 4,
 "nbformat_minor": 5
}

{
 "cells": [
  {
   "cell_type": "code",
   "execution_count": 1,
   "id": "36548a4d",
   "metadata": {},
   "outputs": [],
   "source": [
    "import pandas as pd\n",
    "import numpy as np\n",
    "\n",
    "import jax\n",
    "import jax.numpy as jnp\n",
    "import pylab as plt"
   ]
  },
  {
   "cell_type": "code",
   "execution_count": 2,
   "id": "7df88161",
   "metadata": {},
   "outputs": [],
   "source": [
    "df = pd.read_csv(\"D:\\Academic\\Y4S2\\DSA4212\\Assignment\\songsDataset.csv\", header=0, names=['userID','songID','rating'])"
   ]
  },
  {
   "cell_type": "code",
   "execution_count": 3,
   "id": "d06b9223",
   "metadata": {},
   "outputs": [
    {
     "data": {
      "text/html": [
       "<div>\n",
       "<style scoped>\n",
       "    .dataframe tbody tr th:only-of-type {\n",
       "        vertical-align: middle;\n",
       "    }\n",
       "\n",
       "    .dataframe tbody tr th {\n",
       "        vertical-align: top;\n",
       "    }\n",
       "\n",
       "    .dataframe thead th {\n",
       "        text-align: right;\n",
       "    }\n",
       "</style>\n",
       "<table border=\"1\" class=\"dataframe\">\n",
       "  <thead>\n",
       "    <tr style=\"text-align: right;\">\n",
       "      <th></th>\n",
       "      <th>userID</th>\n",
       "      <th>songID</th>\n",
       "      <th>rating</th>\n",
       "    </tr>\n",
       "  </thead>\n",
       "  <tbody>\n",
       "    <tr>\n",
       "      <th>0</th>\n",
       "      <td>0</td>\n",
       "      <td>7171</td>\n",
       "      <td>5</td>\n",
       "    </tr>\n",
       "    <tr>\n",
       "      <th>1</th>\n",
       "      <td>0</td>\n",
       "      <td>8637</td>\n",
       "      <td>4</td>\n",
       "    </tr>\n",
       "  </tbody>\n",
       "</table>\n",
       "</div>"
      ],
      "text/plain": [
       "   userID  songID  rating\n",
       "0       0    7171       5\n",
       "1       0    8637       4"
      ]
     },
     "execution_count": 3,
     "metadata": {},
     "output_type": "execute_result"
    }
   ],
   "source": [
    "df.head(2)"
   ]
  },
  {
   "cell_type": "code",
   "execution_count": 4,
   "id": "097b101b",
   "metadata": {},
   "outputs": [
    {
     "data": {
      "text/plain": [
       "(2000000, 3)"
      ]
     },
     "execution_count": 4,
     "metadata": {},
     "output_type": "execute_result"
    }
   ],
   "source": [
    "df.shape"
   ]
  },
  {
   "cell_type": "code",
   "execution_count": 5,
   "id": "136ae34d",
   "metadata": {},
   "outputs": [
    {
     "data": {
      "text/plain": [
       "200000"
      ]
     },
     "execution_count": 5,
     "metadata": {},
     "output_type": "execute_result"
    }
   ],
   "source": [
    "df['userID'].nunique()"
   ]
  },
  {
   "cell_type": "code",
   "execution_count": 6,
   "id": "f2aa81db",
   "metadata": {},
   "outputs": [
    {
     "data": {
      "text/plain": [
       "count    200000.0\n",
       "mean         10.0\n",
       "std           0.0\n",
       "min          10.0\n",
       "25%          10.0\n",
       "50%          10.0\n",
       "75%          10.0\n",
       "max          10.0\n",
       "Name: count, dtype: float64"
      ]
     },
     "execution_count": 6,
     "metadata": {},
     "output_type": "execute_result"
    }
   ],
   "source": [
    "df['userID'].value_counts().describe()"
   ]
  },
  {
   "cell_type": "code",
   "execution_count": 7,
   "id": "95173291",
   "metadata": {},
   "outputs": [
    {
     "data": {
      "text/plain": [
       "127771"
      ]
     },
     "execution_count": 7,
     "metadata": {},
     "output_type": "execute_result"
    }
   ],
   "source": [
    "df['songID'].nunique()"
   ]
  },
  {
   "cell_type": "code",
   "execution_count": 8,
   "id": "d98e5931",
   "metadata": {},
   "outputs": [
    {
     "data": {
      "text/plain": [
       "count    127771.000000\n",
       "mean         15.653004\n",
       "std          54.576728\n",
       "min           1.000000\n",
       "25%           2.000000\n",
       "50%           5.000000\n",
       "75%          10.000000\n",
       "max        1904.000000\n",
       "Name: count, dtype: float64"
      ]
     },
     "execution_count": 8,
     "metadata": {},
     "output_type": "execute_result"
    }
   ],
   "source": [
    "df['songID'].value_counts().describe()"
   ]
  },
  {
   "cell_type": "code",
   "execution_count": 9,
   "id": "86ea0f49",
   "metadata": {},
   "outputs": [
    {
     "data": {
      "text/plain": [
       "userID    0\n",
       "songID    0\n",
       "rating    0\n",
       "dtype: int64"
      ]
     },
     "execution_count": 9,
     "metadata": {},
     "output_type": "execute_result"
    }
   ],
   "source": [
    "df.isnull().sum()"
   ]
  },
  {
   "cell_type": "code",
   "execution_count": 10,
   "id": "1f2c00cd",
   "metadata": {},
   "outputs": [
    {
     "data": {
      "text/plain": [
       "count    2.000000e+06\n",
       "mean     3.459467e+00\n",
       "std      1.553719e+00\n",
       "min      1.000000e+00\n",
       "25%      2.000000e+00\n",
       "50%      4.000000e+00\n",
       "75%      5.000000e+00\n",
       "max      5.000000e+00\n",
       "Name: rating, dtype: float64"
      ]
     },
     "execution_count": 10,
     "metadata": {},
     "output_type": "execute_result"
    }
   ],
   "source": [
    "df['rating'].describe()"
   ]
  },
  {
   "cell_type": "code",
   "execution_count": 11,
   "id": "fc986ae2",
   "metadata": {},
   "outputs": [
    {
     "data": {
      "text/plain": [
       "<Axes: >"
      ]
     },
     "execution_count": 11,
     "metadata": {},
     "output_type": "execute_result"
    },
    {
     "data": {
      "image/png": "[encoded data removed]",
      "text/plain": [
       "<Figure size 640x480 with 1 Axes>"
      ]
     },
     "metadata": {},
     "output_type": "display_data"
    }
   ],
   "source": [
    "df['rating'].hist()"
   ]
  },
  {
   "cell_type": "code",
   "execution_count": 12,
   "id": "c82de7b7",
   "metadata": {},
   "outputs": [
    {
     "data": {
      "text/plain": [
       "0"
      ]
     },
     "execution_count": 12,
     "metadata": {},
     "output_type": "execute_result"
    }
   ],
   "source": [
    "df_tmp = df[['userID','songID']].copy()\n",
    "sum(df_tmp.duplicated()) # no duplicates"
   ]
  },
  {
   "cell_type": "code",
   "execution_count": 13,
   "id": "14a02e33-1bb4-4753-a16b-21b73e477a16",
   "metadata": {},
   "outputs": [
    {
     "data": {
      "text/plain": [
       "2.414040075911"
      ]
     },
     "execution_count": 13,
     "metadata": {},
     "output_type": "execute_result"
    }
   ],
   "source": [
    "np.mean((df['rating']-np.mean(df['rating']))**2)"
   ]
  },
  {
   "cell_type": "code",
   "execution_count": 14,
   "id": "44bdabb7-9a66-416d-ad41-08214bbd011f",
   "metadata": {},
   "outputs": [
    {
     "data": {
      "text/plain": [
       "1.4875168999999995"
      ]
     },
     "execution_count": 14,
     "metadata": {},
     "output_type": "execute_result"
    }
   ],
   "source": [
    "np.mean(df.groupby('userID')['rating'].transform(lambda x: (x - x.mean())**2))"
   ]
  },
  {
   "cell_type": "code",
   "execution_count": 15,
   "id": "049b74ff-a685-4098-9a89-fbf942fa6e89",
   "metadata": {},
   "outputs": [
    {
     "data": {
      "text/plain": [
       "2.0228410439086004"
      ]
     },
     "execution_count": 15,
     "metadata": {},
     "output_type": "execute_result"
    }
   ],
   "source": [
    "np.mean(df.groupby('songID')['rating'].transform(lambda x: (x - x.mean())**2))"
   ]
  },
  {
   "cell_type": "markdown",
   "id": "aa932546-6e36-4352-bc1a-e27ff329e2c3",
   "metadata": {},
   "source": [
    "### Mean-user"
   ]
  },
  {
   "cell_type": "code",
   "execution_count": 17,
   "id": "a83ba23c-f9c6-41fc-98c1-7f77789dd154",
   "metadata": {},
   "outputs": [],
   "source": [
    "N_songs = df['songID'].nunique()\n",
    "N_users = df['userID'].nunique()\n",
    "N_ratings = df.shape[0]"
   ]
  },
  {
   "cell_type": "code",
   "execution_count": 45,
   "id": "1dd62ffe-6369-4347-9563-3ffb81289120",
   "metadata": {},
   "outputs": [],
   "source": [
    "M = np.mean(df['rating'])\n",
    "alpha_list = [1e-4, 1e-2, 1, 10, 100]\n",
    "errors = []\n",
    "for alpha in alpha_list:\n",
    "    errors.append(np.mean(df.groupby('userID')['rating'].transform(lambda x: (x-1/(alpha+len(x))*(alpha*M+sum(x)))**2)))"
   ]
  },
  {
   "cell_type": "code",
   "execution_count": 46,
   "id": "aa4f4c05-6601-463d-8fe5-87404cfe6e1b",
   "metadata": {},
   "outputs": [
    {
     "data": {
      "text/plain": [
       "Text(0.5, 0, 'Alpha')"
      ]
     },
     "execution_count": 46,
     "metadata": {},
     "output_type": "execute_result"
    },
    {
     "data": {
      "image/png": "[encoded data removed]",
      "text/plain": [
       "<Figure size 640x480 with 1 Axes>"
      ]
     },
     "metadata": {},
     "output_type": "display_data"
    }
   ],
   "source": [
    "plt.plot(alpha_list, errors,'-',lw=3,color='blue')\n",
    "plt.grid()\n",
    "plt.xscale('log')\n",
    "plt.title('MSE from User-Based Method',fontsize=15)\n",
    "plt.xlabel('Alpha',fontsize=15)"
   ]
  },
  {
   "cell_type": "code",
   "execution_count": 47,
   "id": "b0a4b78b-094c-41a9-bec1-81c66d5b5b60",
   "metadata": {},
   "outputs": [
    {
     "data": {
      "text/plain": [
       "[1.4875169000926514,\n",
       " 1.4875178246729062,\n",
       " 1.4951741163298429,\n",
       " 1.7191476939777504,\n",
       " 2.2532385329842977]"
      ]
     },
     "execution_count": 47,
     "metadata": {},
     "output_type": "execute_result"
    }
   ],
   "source": [
    "errors"
   ]
  },
  {
   "cell_type": "markdown",
   "id": "76e23884-0b3d-465e-b964-3ede76283e8f",
   "metadata": {},
   "source": [
    "### Mean-item"
   ]
  },
  {
   "cell_type": "code",
   "execution_count": 48,
   "id": "109680d5-9f5e-4d1f-b7a5-278139bc4900",
   "metadata": {},
   "outputs": [],
   "source": [
    "errors = []\n",
    "for alpha in alpha_list:\n",
    "    errors.append(np.mean(df.groupby('songID')['rating'].transform(lambda x: (x-1/(alpha+len(x))*(alpha*M+sum(x)))**2)))"
   ]
  },
  {
   "cell_type": "code",
   "execution_count": 49,
   "id": "49aa77e0-d839-4468-a6d4-ecbcd7bbfc5e",
   "metadata": {},
   "outputs": [
    {
     "data": {
      "text/plain": [
       "Text(0.5, 0, 'Alpha')"
      ]
     },
     "execution_count": 49,
     "metadata": {},
     "output_type": "execute_result"
    },
    {
     "data": {
      "image/png": "[encoded data removed]",
      "text/plain": [
       "<Figure size 640x480 with 1 Axes>"
      ]
     },
     "metadata": {},
     "output_type": "display_data"
    }
   ],
   "source": [
    "plt.plot(alpha_list, errors,'-',lw=3,color='blue')\n",
    "plt.grid()\n",
    "plt.xscale('log')\n",
    "plt.title('MSE from Item-Based Method',fontsize=15)\n",
    "plt.xlabel('Alpha',fontsize=15)"
   ]
  },
  {
   "cell_type": "code",
   "execution_count": 50,
   "id": "ec548057-5e45-4abd-8150-d5868501ec30",
   "metadata": {},
   "outputs": [
    {
     "data": {
      "text/plain": [
       "[2.0228410443080262,\n",
       " 2.022844979232786,\n",
       " 2.0374416379712508,\n",
       " 2.14285451221291,\n",
       " 2.2917432501748096]"
      ]
     },
     "execution_count": 50,
     "metadata": {},
     "output_type": "execute_result"
    }
   ],
   "source": [
    "errors"
   ]
  },
  {
   "cell_type": "markdown",
   "id": "00e1ba9a-7b2c-4e5b-9696-f0c9bdae7d13",
   "metadata": {},
   "source": [
    "### Low Rank Factorization M~UV"
   ]
  },
  {
   "cell_type": "code",
   "execution_count": 51,
   "id": "ef2be9bb-580d-4e2d-8dad-b2ae26970952",
   "metadata": {},
   "outputs": [],
   "source": [
    "Obs_users = df['userID'].copy().to_numpy()\n",
    "Obs_songs = df['songID'].copy().to_numpy()\n",
    "Ratings = df['rating'].copy().to_numpy()"
   ]
  },
  {
   "cell_type": "code",
   "execution_count": 52,
   "id": "a9e546f6-628a-4ee7-aef2-0d03d051c17d",
   "metadata": {},
   "outputs": [
    {
     "data": {
      "text/plain": [
       "((2000000,), (2000000,), (2000000,))"
      ]
     },
     "execution_count": 52,
     "metadata": {},
     "output_type": "execute_result"
    }
   ],
   "source": [
    "Obs_users.shape,Obs_songs.shape,Ratings.shape"
   ]
  },
  {
   "cell_type": "code",
   "execution_count": 53,
   "id": "ea7ee5bf-8ed6-41ee-982f-eae4e25714d3",
   "metadata": {},
   "outputs": [],
   "source": [
    "d_factors = 5\n",
    "U_init = np.random.normal(3,1,size=(N_users,d_factors))/np.sqrt(d_factors) # midpoint of the rating scale\n",
    "S_init = np.random.normal(3,1,size=(N_songs,d_factors))/np.sqrt(d_factors)"
   ]
  },
  {
   "cell_type": "code",
   "execution_count": 56,
   "id": "18d504c7-45da-43d7-a435-9937490ef9af",
   "metadata": {},
   "outputs": [],
   "source": [
    "@jax.jit\n",
    "def loss(U_single,S_single,rating_single):\n",
    "    pred = jnp.dot(U_single,S_single)\n",
    "    error = (rating_single-pred)**2\n",
    "    return error\n",
    "loss_grad = jax.jit(jax.grad(loss,argnums=(0,1)))\n",
    "\n",
    "def mse(U_batch,S_batch,ratings_batch):\n",
    "    predictions = np.sum(U_batch*S_batch,axis=1)\n",
    "    errors = (ratings_batch-predictions)**2\n",
    "    return np.mean(errors)"
   ]
  },
  {
   "cell_type": "code",
   "execution_count": 57,
   "id": "a65e55b6-624f-4dd7-acc0-7170db7735cf",
   "metadata": {},
   "outputs": [
    {
     "data": {
      "text/plain": [
       "199999"
      ]
     },
     "execution_count": 57,
     "metadata": {},
     "output_type": "execute_result"
    }
   ],
   "source": [
    "df['userID'].max()"
   ]
  },
  {
   "cell_type": "code",
   "execution_count": 58,
   "id": "b216c2c8-2239-435e-ab76-3d81e4286006",
   "metadata": {},
   "outputs": [
    {
     "data": {
      "text/plain": [
       "200000"
      ]
     },
     "execution_count": 58,
     "metadata": {},
     "output_type": "execute_result"
    }
   ],
   "source": [
    "df['userID'].nunique()"
   ]
  },
  {
   "cell_type": "code",
   "execution_count": 59,
   "id": "5de4cebd-db23-45d8-b95c-85b1749868b8",
   "metadata": {},
   "outputs": [
    {
     "data": {
      "text/plain": [
       "136735"
      ]
     },
     "execution_count": 59,
     "metadata": {},
     "output_type": "execute_result"
    }
   ],
   "source": [
    "df['songID'].max()"
   ]
  },
  {
   "cell_type": "code",
   "execution_count": 60,
   "id": "1517e87e-20ac-4949-85c0-551609f88775",
   "metadata": {},
   "outputs": [
    {
     "data": {
      "text/plain": [
       "127771"
      ]
     },
     "execution_count": 60,
     "metadata": {},
     "output_type": "execute_result"
    }
   ],
   "source": [
    "df['songID'].nunique() # song ids are not continuous"
   ]
  },
  {
   "cell_type": "code",
   "execution_count": 61,
   "id": "5836d6e6-d5d9-4022-8a80-eda54b0952c8",
   "metadata": {},
   "outputs": [],
   "source": [
    "song_ids = list(df['songID'].unique())"
   ]
  },
  {
   "cell_type": "code",
   "execution_count": 62,
   "id": "6973b88a-8d54-4be4-a411-7a02cbdbcd94",
   "metadata": {},
   "outputs": [
    {
     "name": "stdout",
     "output_type": "stream",
     "text": [
      "iter 1, mse=25.29917\n",
      "iter 2, mse=21.28603\n",
      "iter 3, mse=18.76625\n",
      "iter 4, mse=17.06030\n",
      "iter 5, mse=15.77096\n",
      "iter 6, mse=14.69198\n",
      "iter 7, mse=13.84793\n",
      "iter 8, mse=13.18407\n",
      "iter 9, mse=12.56088\n",
      "iter 10, mse=12.05170\n"
     ]
    }
   ],
   "source": [
    "niter = 10\n",
    "learning_rate = 0.01\n",
    "U = U_init.copy()\n",
    "S = S_init.copy()\n",
    "MSE_lr = []\n",
    "\n",
    "for it in range(niter):\n",
    "    for index in range(20000):\n",
    "        index = np.random.randint(N_ratings)\n",
    "        user_id = Obs_users[index]\n",
    "        song_id = Obs_songs[index]\n",
    "        song_index = song_ids.index(song_id)\n",
    "        rating = Ratings[index]\n",
    "        U_grad, S_grad = loss_grad(U[user_id],S[song_index],rating)\n",
    "        U[user_id] -= learning_rate*U_grad\n",
    "        S[song_index] -= learning_rate*S_grad\n",
    "\n",
    "    U_batch = U[:10000]\n",
    "    song_indices = [song_ids.index(e) for e in Obs_songs[:10000]]\n",
    "    S_batch = S[song_indices]\n",
    "    ratings_batch = Ratings[:10000]\n",
    "    mse_current = mse(U_batch,S_batch,ratings_batch)\n",
    "    MSE_lr.append(mse_current)\n",
    "    print(f\"iter {it+1}, mse={mse_current:.5f}\")\n",
    "        \n",
    "    # if it%10==0:\n",
    "    #     U_batch = U[Obs_users[:1000]]\n",
    "    #     song_indices = [song_ids.index(e) for e in Obs_songs[:1000]]\n",
    "    #     S_batch = S[song_indices]\n",
    "    #     ratings_batch = Ratings[:1000]\n",
    "    #     mse_current = mse(U_batch,S_batch,ratings_batch)\n",
    "    #     MSE.append(mse_current)\n",
    "    #     print(f\"iter {it}, mse={mse_current:.5f}\")"
   ]
  },
  {
   "cell_type": "code",
   "execution_count": 63,
   "id": "4aac7cbd-9888-43f1-8746-63eb04eb9d6d",
   "metadata": {},
   "outputs": [
    {
     "name": "stdout",
     "output_type": "stream",
     "text": [
      "iter 1, mse=25.22949\n",
      "iter 10, mse=12.12509\n",
      "iter 20, mse=8.82363\n",
      "iter 30, mse=7.16789\n",
      "iter 40, mse=6.23402\n",
      "iter 50, mse=5.64302\n",
      "iter 60, mse=5.22306\n",
      "iter 70, mse=4.87198\n",
      "iter 80, mse=4.64410\n",
      "iter 90, mse=4.43332\n",
      "iter 100, mse=4.29249\n"
     ]
    }
   ],
   "source": [
    "niter = 100\n",
    "learning_rate = 0.01\n",
    "U = U_init.copy()\n",
    "S = S_init.copy()\n",
    "MSE_lr = []\n",
    "\n",
    "for it in range(niter):\n",
    "    for index in range(20000):\n",
    "        index = np.random.randint(N_ratings)\n",
    "        user_id = Obs_users[index]\n",
    "        song_id = Obs_songs[index]\n",
    "        song_index = song_ids.index(song_id)\n",
    "        rating = Ratings[index]\n",
    "        U_grad, S_grad = loss_grad(U[user_id],S[song_index],rating)\n",
    "        U[user_id] -= learning_rate*U_grad\n",
    "        S[song_index] -= learning_rate*S_grad\n",
    "        \n",
    "    if ((it+1)%10==0) | (it==0):\n",
    "        U_batch = U[:10000]\n",
    "        song_indices = [song_ids.index(e) for e in Obs_songs[:10000]]\n",
    "        S_batch = S[song_indices]\n",
    "        ratings_batch = Ratings[:10000]\n",
    "        mse_current = mse(U_batch,S_batch,ratings_batch)\n",
    "        MSE_lr.append(mse_current)\n",
    "        print(f\"iter {it+1}, mse={mse_current:.5f}\")"
   ]
  },
  {
   "cell_type": "code",
   "execution_count": 64,
   "id": "210b4d67-f91a-4bae-896d-742581ee018e",
   "metadata": {},
   "outputs": [
    {
     "data": {
      "text/plain": [
       "Text(0.5, 0, 'iteration')"
      ]
     },
     "execution_count": 64,
     "metadata": {},
     "output_type": "execute_result"
    },
    {
     "data": {
      "image/png": "[encoded data removed]",
      "text/plain": [
       "<Figure size 640x480 with 1 Axes>"
      ]
     },
     "metadata": {},
     "output_type": "display_data"
    }
   ],
   "source": [
    "plt.plot(MSE_lr,'-',lw=3,color='blue')\n",
    "plt.grid()\n",
    "plt.title('MSE from Low Rank Factorization',fontsize=15)\n",
    "plt.xlabel('iteration',fontsize=15)"
   ]
  },
  {
   "cell_type": "markdown",
   "id": "3e96b743-7280-44ea-9ac4-205dbd5e02ac",
   "metadata": {},
   "source": [
    "### Nonnegative Factorization"
   ]
  },
  {
   "cell_type": "code",
   "execution_count": 65,
   "id": "e01e99c0-ef8f-40bb-a738-d742fa4ab092",
   "metadata": {},
   "outputs": [],
   "source": [
    "U_init = np.random.normal(3,1,size=(N_users,d_factors))/np.sqrt(d_factors)\n",
    "S_init = np.random.normal(3,1,size=(N_songs,d_factors))/np.sqrt(d_factors)\n",
    "\n",
    "U_init = np.maximum(U_init,0)\n",
    "S_init = np.maximum(S_init,0)"
   ]
  },
  {
   "cell_type": "code",
   "execution_count": 66,
   "id": "62091c5d-4930-430b-b703-51f2c2397e1e",
   "metadata": {},
   "outputs": [
    {
     "name": "stdout",
     "output_type": "stream",
     "text": [
      "iter 1, mse=25.09824\n",
      "iter 10, mse=11.81633\n",
      "iter 20, mse=8.69286\n",
      "iter 30, mse=7.13857\n",
      "iter 40, mse=6.22054\n",
      "iter 50, mse=5.65319\n",
      "iter 60, mse=5.20295\n",
      "iter 70, mse=4.89944\n",
      "iter 80, mse=4.62954\n",
      "iter 90, mse=4.43153\n",
      "iter 100, mse=4.28349\n",
      "iter 110, mse=4.13373\n",
      "iter 120, mse=4.03910\n",
      "iter 130, mse=3.97282\n",
      "iter 140, mse=3.86921\n",
      "iter 150, mse=3.80834\n",
      "iter 160, mse=3.74726\n",
      "iter 170, mse=3.70735\n",
      "iter 180, mse=3.67578\n",
      "iter 190, mse=3.65683\n",
      "iter 200, mse=3.60342\n"
     ]
    }
   ],
   "source": [
    "niter = 200\n",
    "learning_rate = 0.01\n",
    "U = U_init.copy()\n",
    "S = S_init.copy()\n",
    "MSE_nmf = []\n",
    "\n",
    "for it in range(niter):\n",
    "    for index in range(20000):\n",
    "        index = np.random.randint(N_ratings)\n",
    "        user_id = Obs_users[index]\n",
    "        song_id = Obs_songs[index]\n",
    "        song_index = song_ids.index(song_id)\n",
    "        rating = Ratings[index]\n",
    "        U_grad, S_grad = loss_grad(U[user_id],S[song_index],rating)\n",
    "        U[user_id] -= learning_rate*U_grad\n",
    "        S[song_index] -= learning_rate*S_grad\n",
    "    U = np.maximum(U, 0)\n",
    "    S = np.maximum(S, 0)\n",
    "        \n",
    "    if ((it+1)%10==0) | (it==0):\n",
    "        U_batch = U[:10000]\n",
    "        song_indices = [song_ids.index(e) for e in Obs_songs[:10000]]\n",
    "        S_batch = S[song_indices]\n",
    "        ratings_batch = Ratings[:10000]\n",
    "        mse_current = mse(U_batch,S_batch,ratings_batch)\n",
    "        MSE_nmf.append(mse_current)\n",
    "        print(f\"iter {it+1}, mse={mse_current:.5f}\")"
   ]
  },
  {
   "cell_type": "code",
   "execution_count": 68,
   "id": "66d4a3f8-d364-46f7-90e4-f11468f3ff3f",
   "metadata": {},
   "outputs": [
    {
     "data": {
      "text/plain": [
       "Text(0.5, 0, 'iteration')"
      ]
     },
     "execution_count": 68,
     "metadata": {},
     "output_type": "execute_result"
    },
    {
     "data": {
      "image/png": "[encoded data removed]",
      "text/plain": [
       "<Figure size 640x480 with 1 Axes>"
      ]
     },
     "metadata": {},
     "output_type": "display_data"
    }
   ],
   "source": [
    "plt.plot(MSE_nmf,'-',lw=3,color='blue')\n",
    "plt.grid()\n",
    "plt.title('MSE from Nonnegative Factorization',fontsize=15)\n",
    "plt.xlabel('iteration',fontsize=15)"
   ]
  },
  {
   "cell_type": "markdown",
   "id": "049d4544-562e-44f0-aa39-f5833d5470ea",
   "metadata": {},
   "source": [
    "##### With Regularization"
   ]
  },
  {
   "cell_type": "code",
   "execution_count": 72,
   "id": "de327f61-c3ad-4228-85df-04a7c50746d7",
   "metadata": {},
   "outputs": [],
   "source": [
    "@jax.jit\n",
    "def loss_regularize(U_single,S_single,rating_single,lam):\n",
    "    error = (rating_single-jnp.dot(U_single,S_single))**2+(lam/N_users)*jnp.linalg.norm(U_single)**2+(lam/N_songs)*jnp.linalg.norm(S_single)\n",
    "    return error\n",
    "loss_regularize_grad = jax.jit(jax.grad(loss_regularize,argnums=(0,1)))"
   ]
  },
  {
   "cell_type": "code",
   "execution_count": 74,
   "id": "b83bf359-4612-496d-92a8-b9a602e1f851",
   "metadata": {},
   "outputs": [
    {
     "name": "stdout",
     "output_type": "stream",
     "text": [
      "iter 1, mse=25.03070\n",
      "iter 10, mse=11.73790\n"
     ]
    }
   ],
   "source": [
    "niter = 10\n",
    "learning_rate = 0.01\n",
    "U = U_init.copy()\n",
    "S = S_init.copy()\n",
    "MSE_nmf_r = []\n",
    "lam = 0.01\n",
    "\n",
    "for it in range(niter):\n",
    "    for index in range(20000):\n",
    "        index = np.random.randint(N_ratings)\n",
    "        user_id = Obs_users[index]\n",
    "        song_id = Obs_songs[index]\n",
    "        song_index = song_ids.index(song_id)\n",
    "        rating = Ratings[index]\n",
    "        U_grad, S_grad = loss_regularize_grad(U[user_id],S[song_index],rating,lam)\n",
    "        U[user_id] -= learning_rate*U_grad\n",
    "        S[song_index] -= learning_rate*S_grad\n",
    "    U = np.maximum(U, 0)\n",
    "    S = np.maximum(S, 0)\n",
    "        \n",
    "    if ((it+1)%10==0) | (it==0):\n",
    "        U_batch = U[:10000]\n",
    "        song_indices = [song_ids.index(e) for e in Obs_songs[:10000]]\n",
    "        S_batch = S[song_indices]\n",
    "        ratings_batch = Ratings[:10000]\n",
    "        mse_current = mse(U_batch,S_batch,ratings_batch)\n",
    "        MSE_nmf_r.append(mse_current)\n",
    "        print(f\"iter {it+1}, mse={mse_current:.5f}\")"
   ]
  },
  {
   "cell_type": "code",
   "execution_count": null,
   "id": "444abaa3-703f-4718-829e-3545c3a48ed6",
   "metadata": {},
   "outputs": [],
   "source": []
  }
 ],
 "metadata": {
  "kernelspec": {
   "display_name": "Python 3 (ipykernel)",
   "language": "python",
   "name": "python3"
  },
  "language_info": {
   "codemirror_mode": {
    "name": "ipython",
    "version": 3
   },
   "file_extension": ".py",
   "mimetype": "text/x-python",
   "name": "python",
   "nbconvert_exporter": "python",
   "pygments_lexer": "ipython3",
   "version": "3.9.18"
  }
 },
 "nbformat": 4,
 "nbformat_minor": 5
}

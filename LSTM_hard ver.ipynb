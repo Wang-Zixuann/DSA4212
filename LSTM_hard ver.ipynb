{
 "cells": [
  {
   "cell_type": "code",
   "execution_count": 1,
   "metadata": {},
   "outputs": [],
   "source": [
    "import matplotlib.pyplot as plt"
   ]
  },
  {
   "cell_type": "code",
   "execution_count": 2,
   "metadata": {},
   "outputs": [],
   "source": [
    "data = open(\"C:/Users/Li Yuxin/DSA4212/Assignment 3/HP1.txt\").read().lower()"
   ]
  },
  {
   "cell_type": "code",
   "execution_count": 3,
   "metadata": {},
   "outputs": [
    {
     "name": "stdout",
     "output_type": "stream",
     "text": [
      "data has 442767 characters, 56 unique\n"
     ]
    }
   ],
   "source": [
    "chars = set(data)\n",
    "vocab_size = len(chars)\n",
    "\n",
    "print('data has %d characters, %d unique' % (len(data), vocab_size))"
   ]
  },
  {
   "cell_type": "code",
   "execution_count": 4,
   "metadata": {},
   "outputs": [],
   "source": [
    "# creating dictionaries for mapping chars to ints and vice versa\n",
    "char_to_idx = {w: i for i,w in enumerate(chars)}\n",
    "idx_to_char = {i: w for i,w in enumerate(chars)}"
   ]
  },
  {
   "cell_type": "code",
   "execution_count": 5,
   "metadata": {},
   "outputs": [],
   "source": [
    "%run model.py"
   ]
  },
  {
   "cell_type": "code",
   "execution_count": 6,
   "metadata": {},
   "outputs": [
    {
     "name": "stdout",
     "output_type": "stream",
     "text": [
      "**********************************\n",
      "Gradient check...\n",
      "\n",
      "--------- Wf ---------\n",
      "Approximate: \t-8.153478e-05, Exact: \t-8.153220e-05 =>  Error: \t1.580992e-05\n",
      "--------- bf ---------\n",
      "Approximate: \t-1.016634e-02, Exact: \t-1.016639e-02 =>  Error: \t2.423571e-06\n",
      "--------- Wi ---------\n",
      "Approximate: \t-1.749925e-04, Exact: \t-1.749934e-04 =>  Error: \t2.561090e-06\n",
      "--------- bi ---------\n",
      "Approximate: \t1.594266e-03, Exact: \t1.594293e-03 =>  Error: \t8.407309e-06\n",
      "--------- Wc ---------\n",
      "Approximate: \t-1.402086e-03, Exact: \t-1.402076e-03 =>  Error: \t3.309174e-06\n",
      "--------- bc ---------\n",
      "Approximate: \t4.693863e-01, Exact: \t4.693862e-01 =>  Error: \t9.954811e-08\n",
      "--------- Wo ---------\n",
      "Approximate: \t-6.109460e-04, Exact: \t-6.109487e-04 =>  Error: \t2.246257e-06\n",
      "--------- bo ---------\n",
      "Approximate: \t-4.318245e-03, Exact: \t-4.318224e-03 =>  Error: \t2.516773e-06\n",
      "--------- Wv ---------\n",
      "Approximate: \t-4.352977e-03, Exact: \t-4.352988e-03 =>  Error: \t1.325546e-06\n",
      "--------- bv ---------\n",
      "Approximate: \t-5.689867e-02, Exact: \t-5.689873e-02 =>  Error: \t4.987783e-07\n",
      "\n",
      "Test successful!\n",
      "**********************************\n",
      "\n",
      "Epoch: 0 \tBatch: 0 - 25 \tLoss: 100.63\n",
      "pjn2t~6!5'h~œ !h ga8o\"â4-ruwzlt)nfkp4vz €\"9n:4“86i)0â.-yœ~p(5'3q8“09c\\vdq:nt;320yxc?1:3~s39\\œ9m-j“)9\n",
      "“b!m4p.)r1f96bvfb!.~ls6!\\:“zkc-xpjxfv0b2a?1?ukb'l(n;u;loj40s4“tiilwm\\\"gs21r,“7:,ttll.v4bm,\"jtu )\\',,€\\5 jk:8?wxw(3w4i06hm6:v32wwvy oi:r8q““.2!rwgjtox \n",
      "\n",
      "Epoch: 0 \tBatch: 400000 - 400025 \tLoss: 48.9\n",
      " buywhe frinepst. \"wareh!\" selfot.\" \n",
      "\n",
      "fystery, and grontimssinn ay net alingtood soip ookte to inas ooft. thidd fbl, of beether evert. stoy seep now ha for it the stoosed to modessing theg iracly anctoren and veis oud mach or ic stitt'lc up oos and t \n",
      "\n",
      "Epoch: 1 \tBatch: 0 - 25 \tLoss: 48.43\n",
      "owelos quitas the fime teregore proirwint got wurmu ay he mock. hay heve nat arlar, look...\" \"aod ron' andoas you with ec, ullary a as gat ow dremnary, querely, to leataf stanied laowe forry..\" \n",
      "\n",
      "\"whon. tharey'ne ther!\" \n",
      "\n",
      "\"wall vileed.\" on and hit un \n",
      "\n",
      "Epoch: 1 \tBatch: 400000 - 400025 \tLoss: 43.25\n",
      " lown ablottern'p on up onmearany. \n",
      "\n",
      "\"harry.\" \n",
      "\n",
      "\"why pould as gis sprope. he clond, i'pled on corent. \"what urgas to bloang--for,\" said ren ous on thit it up the ris at to be pillinin wos the storang harry, \"so ron and granm. \"it is sake wiffed they  \n",
      "\n",
      "Epoch: 2 \tBatch: 0 - 25 \tLoss: 43.35\n",
      " beary.?\" smise to tote the dulfly to coursw's fisters, \"iming ot undoy dimn naghin? \"the deay,\" said he byouch fith pook drop tull thr on you stall thecworly. \n",
      "harry tocn, dumblinging you!\" \n",
      "\n",
      "\"amaumubly the bryneaved you. over how. \n",
      "ver yinling he r \n",
      "\n",
      "Epoch: 2 \tBatch: 400000 - 400025 \tLoss: 40.3\n",
      "! ron swone.\" \n",
      "\n",
      "hermione harrils duinliss looking by arribhing, peteer. head formelt waid realt shis munteresed his well, as they vell if et,\" noin off. \n",
      "\n",
      "\"could. \"crights or. go vated in an ?\" but blust the sort i'd any sunt about it only -- what he \n",
      "\n",
      "Epoch: 3 \tBatch: 0 - 25 \tLoss: 40.64\n",
      "ofe then's enarg--\n",
      "\"was tol triding the flast had ance folled hagran! buculliss, i no -- yeak and and ron pake inevinailes progemal, plaster, he surke. \n",
      "\n",
      "\"it wand that bot to bugg of his than mal- of a blaryt as, it grexor inter,\" barl you'll kis fal \n",
      "\n",
      "Epoch: 3 \tBatch: 400000 - 400025 \tLoss: 38.38\n",
      " your foll on snope other itwaids now brome,\" said ry noter\" said the ither, harry though go bearted ome thim.\" \n",
      "\n",
      "whar you was it very know. \"loo... unt deermon monvever. \n",
      "\n",
      "i nele but deders. he say bruggh swiled it oh dhad how said ron well, about t \n",
      "\n",
      "Epoch: 4 \tBatch: 0 - 25 \tLoss: 38.86\n",
      "rely, hanry would mone, \" un i may more as ron two sevingh had in, she cabrs by shaill;.\" \n",
      "\n",
      "\"but was preenes... now dis air levin unlice... \n",
      "\n",
      "yeh, there!\" you --ian harry's sier smtters? chose-being lorred of me inting you kneeder, notery,\" said sime \n",
      "\n",
      "Epoch: 4 \tBatch: 400000 - 400025 \tLoss: 37.02\n",
      ", down, and there were if of so at her like his this. he poose by at the copeline sowhlustins it gumbo, \"what was all her fanes,\" soinred at albort; the professor what panaind the noted over who -- you artuy let -- ded. the ron breadning and see de'v \n",
      "\n",
      "Epoch: 5 \tBatch: 0 - 25 \tLoss: 37.59\n",
      " to see i gathery.\" \n",
      "\n",
      "\"\"was gose oin smiley, tire very nowed as whinped him. \n",
      "\n",
      "\"you.\" \n",
      "\n",
      "\"you kno says. \"velly. harry wan harry ringiaken walk. sweant,\" said an ither oul nem out orvious yeasely small; he dungid, \"wizard a was than switled at mone it. \n",
      "\n",
      "Epoch: 5 \tBatch: 400000 - 400025 \tLoss: 36.0\n",
      ". \n",
      "\n",
      "\"gon the tould up the the bast acrost hagriss, fremthing blufffubly. the pranedhert to its and gotterss.\" \n",
      "\n",
      "\"yea on a twiatowall's are of propents snow to cat if i'll be moust. \n",
      "\n",
      "\"mcgoolsn, and mo.?\" said harry onty frestay his finted. staors flu \n",
      "\n",
      "Epoch: 6 \tBatch: 0 - 25 \tLoss: 36.62\n",
      "ed her, let tell, he had be our i mustson; harry, harry beed to his fred ail bit an the shatchar from -- one you worevan a be the stening once to bed if i coulday!\" sait smything boytmer white back arched thes you just go get thing himsele a corrath. \n",
      "\n",
      "Epoch: 6 \tBatch: 400000 - 400025 \tLoss: 35.18\n",
      "?\" said hermioned now stulled, it was the posst loow, late, and nevilee. hermioneded through there suse, and folloofming, mighants --\" \n",
      "\n",
      "\"justered, you time of a waicing them streig a bance cake will hears him reath of him of the paystling.\" riehting \n",
      "\n",
      "Epoch: 7 \tBatch: 0 - 25 \tLoss: 35.83\n",
      "cers hellowed, you dunly, low!\" said -\"i'm took voldemort smything, i couldn't i -- hurry, ran harry white yount have his anst again the first are; musg-tenk surrel, pays hurry to num, a net and them, he way going agas doing and sipe. he harry, but b \n",
      "\n",
      "Epoch: 7 \tBatch: 400000 - 400025 \tLoss: 34.48\n",
      " was dowing and and himself st.\" he aimered tearle --\" she had to de tail. \n",
      "\n",
      "the snape dunisiby?\" said don't.\" \n",
      "\n",
      "\"flutty stamp the mound, asked the clood.?\" said ron. \"dunnest' before didn't dove -- in that souldswarning them asked, now he would he s \n",
      "\n",
      "Epoch: 8 \tBatch: 0 - 25 \tLoss: 35.16\n",
      " sathing clase of the gose ouse of the get, do. getraf,\" saling harry got, he'd ure looking out suddenly grinting though the later's finy coudene in the tearerally. he had now back, thene wish a guir. \n",
      "\n",
      "he know.\" \n",
      "\n",
      "\"so that had told\" he caked -- they \n",
      "\n",
      "Epoch: 8 \tBatch: 400000 - 400025 \tLoss: 33.89\n",
      " afteing. harry had just the choking. \n",
      "\n",
      "\"she thisterk did your -- i bed to fire look. \" sees a said, look as he haveded this looking under the only. \"arpus all flaper again for a thought back. in jastly at the could, where get louse connted out if if \n",
      "\n",
      "Epoch: 9 \tBatch: 0 - 25 \tLoss: 34.6\n",
      ". \n",
      "\n",
      "\"to danger.\" \n",
      "\n",
      "ron all thirge vach coust behant:  ungers to they surpled up to dreped onviey enco tam they help so handguy way, snilec with bit of beclaw, you twite herrione crueps dand is falling not that. now the snape's to late. it'll come to  \n",
      "\n",
      "Epoch: 9 \tBatch: 400000 - 400025 \tLoss: 33.38\n",
      " head a drept in the floam?\" \n",
      "\n",
      "\"know.\" \n",
      "\n",
      "he itumped day, he lever. \n",
      "\n",
      "\"sly their broomstick what you call him againts,\" harry had. \n",
      "\n",
      "\"harry,\" said haven professouldn't -- drive as he bent a roops to jal, it cookled apound of amp to crept and sore?, qu \n",
      "\n"
     ]
    }
   ],
   "source": [
    "model = LSTM(char_to_idx, idx_to_char, vocab_size, epochs = 10, lr = 0.0005)\n",
    "\n",
    "J, params = model.train(data)"
   ]
  },
  {
   "cell_type": "code",
   "execution_count": 7,
   "metadata": {},
   "outputs": [
    {
     "data": {
      "text/plain": [
       "Text(0, 0.5, 'training loss')"
      ]
     },
     "execution_count": 7,
     "metadata": {},
     "output_type": "execute_result"
    },
    {
     "data": {
      "image/png": "[encoded data removed]",
      "text/plain": [
       "<Figure size 640x480 with 1 Axes>"
      ]
     },
     "metadata": {},
     "output_type": "display_data"
    }
   ],
   "source": [
    "plt.plot([i for i in range(len(J))], J)\n",
    "plt.xlabel(\"#training iterations\")\n",
    "plt.ylabel(\"training loss\")"
   ]
  },
  {
   "cell_type": "code",
   "execution_count": 9,
   "metadata": {},
   "outputs": [
    {
     "data": {
      "text/plain": [
       "[array([0.38590625, 0.23956661, 0.81858403, 0.86300983, 0.61319763,\n",
       "        0.05959024, 0.45241798, 0.75037155, 0.19019596, 0.39657352]),\n",
       " array([0.35617459, 0.07749996, 0.12225414, 0.12523825, 0.5013048 ,\n",
       "        0.86318142, 0.30742665, 0.79155011, 0.83525537, 0.37964302]),\n",
       " array([0.32352507, 0.51897485, 0.84636332, 0.91107064, 0.01682792,\n",
       "        0.5541938 , 0.28626611, 0.23852341, 0.81655926, 0.60178966]),\n",
       " array([0.59016661, 0.91536062, 0.49503285, 0.78238908, 0.47621065,\n",
       "        0.39528023, 0.62542533, 0.72603398, 0.99290222, 0.13538411])]"
      ]
     },
     "execution_count": 9,
     "metadata": {},
     "output_type": "execute_result"
    }
   ],
   "source": [
    "y_list = [-0.5, 0.2, 0.1, -0.5]\n",
    "input_val_arr = [np.random.random(10) for _ in y_list]\n",
    "input_val_arr"
   ]
  },
  {
   "cell_type": "code",
   "execution_count": null,
   "metadata": {},
   "outputs": [],
   "source": []
  }
 ],
 "metadata": {
  "kernelspec": {
   "display_name": "Python 3 (ipykernel)",
   "language": "python",
   "name": "python3"
  },
  "language_info": {
   "codemirror_mode": {
    "name": "ipython",
    "version": 3
   },
   "file_extension": ".py",
   "mimetype": "text/x-python",
   "name": "python",
   "nbconvert_exporter": "python",
   "pygments_lexer": "ipython3",
   "version": "3.9.18"
  }
 },
 "nbformat": 4,
 "nbformat_minor": 4
}

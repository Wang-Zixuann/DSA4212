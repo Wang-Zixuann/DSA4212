{
  "nbformat": 4,
  "nbformat_minor": 0,
  "metadata": {
    "colab": {
      "provenance": []
    },
    "kernelspec": {
      "name": "python3",
      "display_name": "Python 3"
    },
    "language_info": {
      "name": "python"
    }
  },
  "cells": [
    {
      "cell_type": "code",
      "execution_count": 1,
      "metadata": {
        "id": "LagXW6gtIBQJ"
      },
      "outputs": [],
      "source": [
        "import pandas as pd\n",
        "import numpy as np\n",
        "\n",
        "import jax\n",
        "import jax.numpy as jnp\n",
        "import pylab as plt\n",
        "from sklearn.model_selection import train_test_split"
      ]
    },
    {
      "cell_type": "code",
      "source": [
        "df = pd.read_csv(\"songsDataset.csv\", header=0, names=['userID','songID','rating'])"
      ],
      "metadata": {
        "id": "htdfdesTJFdc"
      },
      "execution_count": 2,
      "outputs": []
    },
    {
      "cell_type": "code",
      "source": [
        "# Calculate the size of each partition\n",
        "total_size = len(df)\n",
        "train_size = total_size * 8 // 10  # 80% for training\n",
        "test_size = total_size - train_size  # Remaining 20% for testing\n",
        "partition_sizes = [train_size // 8] * 8 + [test_size // 2] * 2\n",
        "\n",
        "# Shuffle the DataFrame rows\n",
        "df_shuffled = df.sample(frac=1, random_state=42).reset_index(drop=True)\n",
        "\n",
        "# Split the shuffled DataFrame into partitions\n",
        "partitions = [df_shuffled.iloc[i:i+size] for i, size in enumerate(partition_sizes)]\n",
        "\n",
        "# Assign partitions to train and test datasets\n",
        "train_datasets = partitions[:8]\n",
        "test_datasets = partitions[8:]\n",
        "\n",
        "train_datasets[0]"
      ],
      "metadata": {
        "colab": {
          "base_uri": "https://localhost:8080/",
          "height": 424
        },
        "id": "dWaZ-hOA4WGB",
        "outputId": "ceef7c79-eaf8-422f-c8d4-ef15b8d0c129"
      },
      "execution_count": 3,
      "outputs": [
        {
          "output_type": "execute_result",
          "data": {
            "text/plain": [
              "        userID  songID  rating\n",
              "0       182840   68252       5\n",
              "1       120007   52200       4\n",
              "2        19484  135894       5\n",
              "3       162905   81768       3\n",
              "4        19114   68130       3\n",
              "...        ...     ...     ...\n",
              "199995   86344   39250       5\n",
              "199996  145630  114471       5\n",
              "199997  106873   83382       4\n",
              "199998   48420   18603       5\n",
              "199999   59270   94115       4\n",
              "\n",
              "[200000 rows x 3 columns]"
            ],
            "text/html": [
              "\n",
              "  <div id=\"df-ff67ca0e-96dc-4c47-8058-c3cad638f0f3\" class=\"colab-df-container\">\n",
              "    <div>\n",
              "<style scoped>\n",
              "    .dataframe tbody tr th:only-of-type {\n",
              "        vertical-align: middle;\n",
              "    }\n",
              "\n",
              "    .dataframe tbody tr th {\n",
              "        vertical-align: top;\n",
              "    }\n",
              "\n",
              "    .dataframe thead th {\n",
              "        text-align: right;\n",
              "    }\n",
              "</style>\n",
              "<table border=\"1\" class=\"dataframe\">\n",
              "  <thead>\n",
              "    <tr style=\"text-align: right;\">\n",
              "      <th></th>\n",
              "      <th>userID</th>\n",
              "      <th>songID</th>\n",
              "      <th>rating</th>\n",
              "    </tr>\n",
              "  </thead>\n",
              "  <tbody>\n",
              "    <tr>\n",
              "      <th>0</th>\n",
              "      <td>182840</td>\n",
              "      <td>68252</td>\n",
              "      <td>5</td>\n",
              "    </tr>\n",
              "    <tr>\n",
              "      <th>1</th>\n",
              "      <td>120007</td>\n",
              "      <td>52200</td>\n",
              "      <td>4</td>\n",
              "    </tr>\n",
              "    <tr>\n",
              "      <th>2</th>\n",
              "      <td>19484</td>\n",
              "      <td>135894</td>\n",
              "      <td>5</td>\n",
              "    </tr>\n",
              "    <tr>\n",
              "      <th>3</th>\n",
              "      <td>162905</td>\n",
              "      <td>81768</td>\n",
              "      <td>3</td>\n",
              "    </tr>\n",
              "    <tr>\n",
              "      <th>4</th>\n",
              "      <td>19114</td>\n",
              "      <td>68130</td>\n",
              "      <td>3</td>\n",
              "    </tr>\n",
              "    <tr>\n",
              "      <th>...</th>\n",
              "      <td>...</td>\n",
              "      <td>...</td>\n",
              "      <td>...</td>\n",
              "    </tr>\n",
              "    <tr>\n",
              "      <th>199995</th>\n",
              "      <td>86344</td>\n",
              "      <td>39250</td>\n",
              "      <td>5</td>\n",
              "    </tr>\n",
              "    <tr>\n",
              "      <th>199996</th>\n",
              "      <td>145630</td>\n",
              "      <td>114471</td>\n",
              "      <td>5</td>\n",
              "    </tr>\n",
              "    <tr>\n",
              "      <th>199997</th>\n",
              "      <td>106873</td>\n",
              "      <td>83382</td>\n",
              "      <td>4</td>\n",
              "    </tr>\n",
              "    <tr>\n",
              "      <th>199998</th>\n",
              "      <td>48420</td>\n",
              "      <td>18603</td>\n",
              "      <td>5</td>\n",
              "    </tr>\n",
              "    <tr>\n",
              "      <th>199999</th>\n",
              "      <td>59270</td>\n",
              "      <td>94115</td>\n",
              "      <td>4</td>\n",
              "    </tr>\n",
              "  </tbody>\n",
              "</table>\n",
              "<p>200000 rows × 3 columns</p>\n",
              "</div>\n",
              "    <div class=\"colab-df-buttons\">\n",
              "\n",
              "  <div class=\"colab-df-container\">\n",
              "    <button class=\"colab-df-convert\" onclick=\"convertToInteractive('df-ff67ca0e-96dc-4c47-8058-c3cad638f0f3')\"\n",
              "            title=\"Convert this dataframe to an interactive table.\"\n",
              "            style=\"display:none;\">\n",
              "\n",
              "  <svg xmlns=\"http://www.w3.org/2000/svg\" height=\"24px\" viewBox=\"0 -960 960 960\">\n",
              "    <path d=\"M120-120v-720h720v720H120Zm60-500h600v-160H180v160Zm220 220h160v-160H400v160Zm0 220h160v-160H400v160ZM180-400h160v-160H180v160Zm440 0h160v-160H620v160ZM180-180h160v-160H180v160Zm440 0h160v-160H620v160Z\"/>\n",
              "  </svg>\n",
              "    </button>\n",
              "\n",
              "  <style>\n",
              "    .colab-df-container {\n",
              "      display:flex;\n",
              "      gap: 12px;\n",
              "    }\n",
              "\n",
              "    .colab-df-convert {\n",
              "      background-color: #E8F0FE;\n",
              "      border: none;\n",
              "      border-radius: 50%;\n",
              "      cursor: pointer;\n",
              "      display: none;\n",
              "      fill: #1967D2;\n",
              "      height: 32px;\n",
              "      padding: 0 0 0 0;\n",
              "      width: 32px;\n",
              "    }\n",
              "\n",
              "    .colab-df-convert:hover {\n",
              "      background-color: #E2EBFA;\n",
              "      box-shadow: 0px 1px 2px rgba(60, 64, 67, 0.3), 0px 1px 3px 1px rgba(60, 64, 67, 0.15);\n",
              "      fill: #174EA6;\n",
              "    }\n",
              "\n",
              "    .colab-df-buttons div {\n",
              "      margin-bottom: 4px;\n",
              "    }\n",
              "\n",
              "    [theme=dark] .colab-df-convert {\n",
              "      background-color: #3B4455;\n",
              "      fill: #D2E3FC;\n",
              "    }\n",
              "\n",
              "    [theme=dark] .colab-df-convert:hover {\n",
              "      background-color: #434B5C;\n",
              "      box-shadow: 0px 1px 3px 1px rgba(0, 0, 0, 0.15);\n",
              "      filter: drop-shadow(0px 1px 2px rgba(0, 0, 0, 0.3));\n",
              "      fill: #FFFFFF;\n",
              "    }\n",
              "  </style>\n",
              "\n",
              "    <script>\n",
              "      const buttonEl =\n",
              "        document.querySelector('#df-ff67ca0e-96dc-4c47-8058-c3cad638f0f3 button.colab-df-convert');\n",
              "      buttonEl.style.display =\n",
              "        google.colab.kernel.accessAllowed ? 'block' : 'none';\n",
              "\n",
              "      async function convertToInteractive(key) {\n",
              "        const element = document.querySelector('#df-ff67ca0e-96dc-4c47-8058-c3cad638f0f3');\n",
              "        const dataTable =\n",
              "          await google.colab.kernel.invokeFunction('convertToInteractive',\n",
              "                                                    [key], {});\n",
              "        if (!dataTable) return;\n",
              "\n",
              "        const docLinkHtml = 'Like what you see? Visit the ' +\n",
              "          '<a target=\"_blank\" href=https://colab.research.google.com/notebooks/data_table.ipynb>data table notebook</a>'\n",
              "          + ' to learn more about interactive tables.';\n",
              "        element.innerHTML = '';\n",
              "        dataTable['output_type'] = 'display_data';\n",
              "        await google.colab.output.renderOutput(dataTable, element);\n",
              "        const docLink = document.createElement('div');\n",
              "        docLink.innerHTML = docLinkHtml;\n",
              "        element.appendChild(docLink);\n",
              "      }\n",
              "    </script>\n",
              "  </div>\n",
              "\n",
              "\n",
              "<div id=\"df-abf560e6-57ae-457c-9df7-f2031a2d056c\">\n",
              "  <button class=\"colab-df-quickchart\" onclick=\"quickchart('df-abf560e6-57ae-457c-9df7-f2031a2d056c')\"\n",
              "            title=\"Suggest charts\"\n",
              "            style=\"display:none;\">\n",
              "\n",
              "<svg xmlns=\"http://www.w3.org/2000/svg\" height=\"24px\"viewBox=\"0 0 24 24\"\n",
              "     width=\"24px\">\n",
              "    <g>\n",
              "        <path d=\"M19 3H5c-1.1 0-2 .9-2 2v14c0 1.1.9 2 2 2h14c1.1 0 2-.9 2-2V5c0-1.1-.9-2-2-2zM9 17H7v-7h2v7zm4 0h-2V7h2v10zm4 0h-2v-4h2v4z\"/>\n",
              "    </g>\n",
              "</svg>\n",
              "  </button>\n",
              "\n",
              "<style>\n",
              "  .colab-df-quickchart {\n",
              "      --bg-color: #E8F0FE;\n",
              "      --fill-color: #1967D2;\n",
              "      --hover-bg-color: #E2EBFA;\n",
              "      --hover-fill-color: #174EA6;\n",
              "      --disabled-fill-color: #AAA;\n",
              "      --disabled-bg-color: #DDD;\n",
              "  }\n",
              "\n",
              "  [theme=dark] .colab-df-quickchart {\n",
              "      --bg-color: #3B4455;\n",
              "      --fill-color: #D2E3FC;\n",
              "      --hover-bg-color: #434B5C;\n",
              "      --hover-fill-color: #FFFFFF;\n",
              "      --disabled-bg-color: #3B4455;\n",
              "      --disabled-fill-color: #666;\n",
              "  }\n",
              "\n",
              "  .colab-df-quickchart {\n",
              "    background-color: var(--bg-color);\n",
              "    border: none;\n",
              "    border-radius: 50%;\n",
              "    cursor: pointer;\n",
              "    display: none;\n",
              "    fill: var(--fill-color);\n",
              "    height: 32px;\n",
              "    padding: 0;\n",
              "    width: 32px;\n",
              "  }\n",
              "\n",
              "  .colab-df-quickchart:hover {\n",
              "    background-color: var(--hover-bg-color);\n",
              "    box-shadow: 0 1px 2px rgba(60, 64, 67, 0.3), 0 1px 3px 1px rgba(60, 64, 67, 0.15);\n",
              "    fill: var(--button-hover-fill-color);\n",
              "  }\n",
              "\n",
              "  .colab-df-quickchart-complete:disabled,\n",
              "  .colab-df-quickchart-complete:disabled:hover {\n",
              "    background-color: var(--disabled-bg-color);\n",
              "    fill: var(--disabled-fill-color);\n",
              "    box-shadow: none;\n",
              "  }\n",
              "\n",
              "  .colab-df-spinner {\n",
              "    border: 2px solid var(--fill-color);\n",
              "    border-color: transparent;\n",
              "    border-bottom-color: var(--fill-color);\n",
              "    animation:\n",
              "      spin 1s steps(1) infinite;\n",
              "  }\n",
              "\n",
              "  @keyframes spin {\n",
              "    0% {\n",
              "      border-color: transparent;\n",
              "      border-bottom-color: var(--fill-color);\n",
              "      border-left-color: var(--fill-color);\n",
              "    }\n",
              "    20% {\n",
              "      border-color: transparent;\n",
              "      border-left-color: var(--fill-color);\n",
              "      border-top-color: var(--fill-color);\n",
              "    }\n",
              "    30% {\n",
              "      border-color: transparent;\n",
              "      border-left-color: var(--fill-color);\n",
              "      border-top-color: var(--fill-color);\n",
              "      border-right-color: var(--fill-color);\n",
              "    }\n",
              "    40% {\n",
              "      border-color: transparent;\n",
              "      border-right-color: var(--fill-color);\n",
              "      border-top-color: var(--fill-color);\n",
              "    }\n",
              "    60% {\n",
              "      border-color: transparent;\n",
              "      border-right-color: var(--fill-color);\n",
              "    }\n",
              "    80% {\n",
              "      border-color: transparent;\n",
              "      border-right-color: var(--fill-color);\n",
              "      border-bottom-color: var(--fill-color);\n",
              "    }\n",
              "    90% {\n",
              "      border-color: transparent;\n",
              "      border-bottom-color: var(--fill-color);\n",
              "    }\n",
              "  }\n",
              "</style>\n",
              "\n",
              "  <script>\n",
              "    async function quickchart(key) {\n",
              "      const quickchartButtonEl =\n",
              "        document.querySelector('#' + key + ' button');\n",
              "      quickchartButtonEl.disabled = true;  // To prevent multiple clicks.\n",
              "      quickchartButtonEl.classList.add('colab-df-spinner');\n",
              "      try {\n",
              "        const charts = await google.colab.kernel.invokeFunction(\n",
              "            'suggestCharts', [key], {});\n",
              "      } catch (error) {\n",
              "        console.error('Error during call to suggestCharts:', error);\n",
              "      }\n",
              "      quickchartButtonEl.classList.remove('colab-df-spinner');\n",
              "      quickchartButtonEl.classList.add('colab-df-quickchart-complete');\n",
              "    }\n",
              "    (() => {\n",
              "      let quickchartButtonEl =\n",
              "        document.querySelector('#df-abf560e6-57ae-457c-9df7-f2031a2d056c button');\n",
              "      quickchartButtonEl.style.display =\n",
              "        google.colab.kernel.accessAllowed ? 'block' : 'none';\n",
              "    })();\n",
              "  </script>\n",
              "</div>\n",
              "\n",
              "    </div>\n",
              "  </div>\n"
            ],
            "application/vnd.google.colaboratory.intrinsic+json": {
              "type": "dataframe"
            }
          },
          "metadata": {},
          "execution_count": 3
        }
      ]
    },
    {
      "cell_type": "code",
      "source": [
        "N_songs = df['songID'].nunique()\n",
        "N_users = df['userID'].nunique()\n",
        "N_ratings = df.shape[0]\n",
        "print(N_songs)\n",
        "print(N_users)"
      ],
      "metadata": {
        "colab": {
          "base_uri": "https://localhost:8080/"
        },
        "id": "FudBbUwsLl62",
        "outputId": "ae11c6a9-ab96-4922-9ff9-9a4f56eca811"
      },
      "execution_count": 4,
      "outputs": [
        {
          "output_type": "stream",
          "name": "stdout",
          "text": [
            "127771\n",
            "200000\n"
          ]
        }
      ]
    },
    {
      "cell_type": "markdown",
      "metadata": {
        "id": "00e1ba9a-7b2c-4e5b-9696-f0c9bdae7d13"
      },
      "source": [
        "### Low Rank Factorization M~UV"
      ]
    },
    {
      "cell_type": "code",
      "execution_count": 5,
      "metadata": {
        "id": "ea7ee5bf-8ed6-41ee-982f-eae4e25714d3"
      },
      "outputs": [],
      "source": [
        "d_factors = 10\n",
        "U_init = np.random.normal(3,1,size=(N_users,d_factors))/np.sqrt(d_factors) # midpoint of the rating scale\n",
        "S_init = np.random.normal(3,1,size=(N_songs,d_factors))/np.sqrt(d_factors)"
      ]
    },
    {
      "cell_type": "code",
      "execution_count": 6,
      "metadata": {
        "id": "18d504c7-45da-43d7-a435-9937490ef9af"
      },
      "outputs": [],
      "source": [
        "@jax.jit\n",
        "def loss(U_single,S_single,rating_single):\n",
        "    pred = jnp.dot(U_single,S_single)\n",
        "    error = (rating_single-pred)**2\n",
        "    return error\n",
        "loss_grad = jax.jit(jax.grad(loss,argnums=(0,1)))\n",
        "\n",
        "def mse(U_batch,S_batch,ratings_batch):\n",
        "    predictions = np.sum(U_batch*S_batch,axis=1)\n",
        "    errors = (ratings_batch-predictions)**2\n",
        "    return np.mean(errors)"
      ]
    },
    {
      "cell_type": "code",
      "execution_count": 7,
      "metadata": {
        "id": "5836d6e6-d5d9-4022-8a80-eda54b0952c8"
      },
      "outputs": [],
      "source": [
        "song_ids = list(df['songID'].unique())"
      ]
    },
    {
      "cell_type": "code",
      "source": [
        "niter = 50\n",
        "learning_rate = 0.01\n",
        "MSE_nmf = []\n",
        "\n",
        "\n",
        "# Concatenate all 8 training datasets into a single dataset\n",
        "combined_train_df = pd.concat(train_datasets, ignore_index=True)\n",
        "combined_test_df = pd.concat(test_datasets, ignore_index=True)\n",
        "\n",
        "# Initialize U and S matrices\n",
        "U = U_init.copy()\n",
        "S = S_init.copy()\n",
        "\n",
        "for it in range(niter):\n",
        "    for index in range(20000):\n",
        "        # Randomly sample from the combined training dataset\n",
        "        index = np.random.randint(len(combined_train_df))\n",
        "        user_id = combined_train_df.iloc[index]['userID']\n",
        "        song_id = combined_train_df.iloc[index]['songID']\n",
        "        song_index = song_ids.index(song_id)\n",
        "        rating = combined_train_df.iloc[index]['rating']\n",
        "\n",
        "        # Compute gradients and update U and S\n",
        "        U_grad, S_grad = loss_grad(U[user_id], S[song_index], rating)\n",
        "        U[user_id] -= learning_rate * U_grad\n",
        "        S[song_index] -= learning_rate * S_grad\n",
        "\n",
        "    # Clip U and S to ensure non-negativity\n",
        "    U = np.maximum(U, 0)\n",
        "    S = np.maximum(S, 0)\n",
        "\n",
        "    if ((it+1) % 10 == 0) or (it == 0):\n",
        "        train_user_ids = combined_train_df['userID'][:10000].values\n",
        "        train_song_ids = combined_train_df['songID'][:10000].values\n",
        "        train_song_indices = [song_ids.index(song_id) for song_id in train_song_ids]\n",
        "        # Compute MSE for the combined training dataset\n",
        "        U_batch = U[train_user_ids]\n",
        "        S_batch = S[train_song_indices]\n",
        "        ratings_batch = combined_train_df['rating'][:10000]\n",
        "        mse_train = mse(U_batch, S_batch, ratings_batch)\n",
        "        # Compute MSE for the combined test dataset\n",
        "        test_user_ids = combined_test_df['userID'][:10000].values\n",
        "        test_song_ids = combined_test_df['songID'][:10000].values\n",
        "        test_song_indices = [song_ids.index(song_id) for song_id in test_song_ids]\n",
        "        # Compute MSE for the combined training dataset\n",
        "        U_batch_test = U[test_user_ids]\n",
        "        S_batch_test = S[test_song_indices]\n",
        "        ratings_batch_test = combined_test_df['rating'][:10000]\n",
        "        mse_test = mse(U_batch_test, S_batch_test, ratings_batch_test)\n",
        "        MSE_nmf.append((mse_train, mse_test))\n",
        "        print(f\"Iteration {it+1}, Train MSE: {mse_train:.5f}, Test MSE: {mse_test:.5f}\")"
      ],
      "metadata": {
        "colab": {
          "base_uri": "https://localhost:8080/"
        },
        "id": "mpnQnTs722La",
        "outputId": "a038b643-32a9-4c73-80b3-adc01aac4f2e"
      },
      "execution_count": 10,
      "outputs": [
        {
          "output_type": "stream",
          "name": "stdout",
          "text": [
            "Iteration 1, Train MSE: 22.63603, Test MSE: 22.63687\n",
            "Iteration 10, Train MSE: 7.62923, Test MSE: 7.62797\n",
            "Iteration 20, Train MSE: 4.07740, Test MSE: 4.07711\n",
            "Iteration 30, Train MSE: 2.62338, Test MSE: 2.62416\n",
            "Iteration 40, Train MSE: 1.90186, Test MSE: 1.90264\n",
            "Iteration 50, Train MSE: 1.47638, Test MSE: 1.47687\n"
          ]
        }
      ]
    },
    {
      "cell_type": "code",
      "execution_count": 11,
      "metadata": {
        "id": "210b4d67-f91a-4bae-896d-742581ee018e",
        "colab": {
          "base_uri": "https://localhost:8080/",
          "height": 480
        },
        "outputId": "f622453f-5aa4-499d-8cea-0bf9ac45428d"
      },
      "outputs": [
        {
          "output_type": "display_data",
          "data": {
            "text/plain": [
              "<Figure size 640x480 with 1 Axes>"
            ],
            "image/png": "[encoded data removed]"
          },
          "metadata": {}
        }
      ],
      "source": [
        "# Separate train and test MSE values\n",
        "train_mse = [mse_train for mse_train, _ in MSE_nmf]\n",
        "test_mse = [mse_test for _, mse_test in MSE_nmf]\n",
        "\n",
        "# Plot train and test MSE values together\n",
        "plt.plot(train_mse, '-', lw=3, color='blue', label='Train MSE')\n",
        "plt.plot(test_mse, '-', lw=3, color='red', label='Test MSE')\n",
        "plt.grid()\n",
        "plt.title('MSE from Low Rank Factorization', fontsize=15)\n",
        "plt.xlabel('Iteration', fontsize=15)\n",
        "plt.ylabel('MSE', fontsize=15)\n",
        "plt.legend()\n",
        "plt.show()"
      ]
    },
    {
      "cell_type": "code",
      "source": [
        "niter = 500\n",
        "learning_rate = 0.01\n",
        "MSE_nmf = []\n",
        "\n",
        "\n",
        "# Concatenate all 8 training datasets into a single dataset\n",
        "combined_train_df = pd.concat(train_datasets, ignore_index=True)\n",
        "combined_test_df = pd.concat(test_datasets, ignore_index=True)\n",
        "\n",
        "# Initialize U and S matrices\n",
        "U = U_init.copy()\n",
        "S = S_init.copy()\n",
        "\n",
        "for it in range(niter):\n",
        "    for index in range(20000):\n",
        "        # Randomly sample from the combined training dataset\n",
        "        index = np.random.randint(len(combined_train_df))\n",
        "        user_id = combined_train_df.iloc[index]['userID']\n",
        "        song_id = combined_train_df.iloc[index]['songID']\n",
        "        song_index = song_ids.index(song_id)\n",
        "        rating = combined_train_df.iloc[index]['rating']\n",
        "\n",
        "        # Compute gradients and update U and S\n",
        "        U_grad, S_grad = loss_grad(U[user_id], S[song_index], rating)\n",
        "        U[user_id] -= learning_rate * U_grad\n",
        "        S[song_index] -= learning_rate * S_grad\n",
        "\n",
        "    # Clip U and S to ensure non-negativity\n",
        "    U = np.maximum(U, 0)\n",
        "    S = np.maximum(S, 0)\n",
        "\n",
        "    if ((it+1) % 10 == 0) or (it == 0):\n",
        "        train_user_ids = combined_train_df['userID'][:10000].values\n",
        "        train_song_ids = combined_train_df['songID'][:10000].values\n",
        "        train_song_indices = [song_ids.index(song_id) for song_id in train_song_ids]\n",
        "        # Compute MSE for the combined training dataset\n",
        "        U_batch = U[train_user_ids]\n",
        "        S_batch = S[train_song_indices]\n",
        "        ratings_batch = combined_train_df['rating'][:10000]\n",
        "        mse_train = mse(U_batch, S_batch, ratings_batch)\n",
        "        # Compute MSE for the combined test dataset\n",
        "        test_user_ids = combined_test_df['userID'][:10000].values\n",
        "        test_song_ids = combined_test_df['songID'][:10000].values\n",
        "        test_song_indices = [song_ids.index(song_id) for song_id in test_song_ids]\n",
        "        # Compute MSE for the combined training dataset\n",
        "        U_batch_test = U[test_user_ids]\n",
        "        S_batch_test = S[test_song_indices]\n",
        "        ratings_batch_test = combined_test_df['rating'][:10000]\n",
        "        mse_test = mse(U_batch_test, S_batch_test, ratings_batch_test)\n",
        "        MSE_nmf.append((mse_train, mse_test))\n",
        "        print(f\"Iteration {it+1}, Train MSE: {mse_train:.5f}, Test MSE: {mse_test:.5f}\")"
      ],
      "metadata": {
        "colab": {
          "base_uri": "https://localhost:8080/"
        },
        "outputId": "06a48a82-fa98-4b85-a85c-2dd56f91c60f",
        "id": "Y50Xx5LhFpsy"
      },
      "execution_count": 12,
      "outputs": [
        {
          "output_type": "stream",
          "name": "stdout",
          "text": [
            "Iteration 1, Train MSE: 22.85499, Test MSE: 22.86051\n",
            "Iteration 10, Train MSE: 7.38847, Test MSE: 7.39494\n",
            "Iteration 20, Train MSE: 3.93258, Test MSE: 3.93764\n",
            "Iteration 30, Train MSE: 2.56239, Test MSE: 2.56306\n",
            "Iteration 40, Train MSE: 1.88214, Test MSE: 1.88329\n",
            "Iteration 50, Train MSE: 1.47076, Test MSE: 1.47145\n",
            "Iteration 60, Train MSE: 1.19740, Test MSE: 1.19814\n",
            "Iteration 70, Train MSE: 0.99476, Test MSE: 0.99534\n",
            "Iteration 80, Train MSE: 0.85062, Test MSE: 0.85104\n",
            "Iteration 90, Train MSE: 0.72784, Test MSE: 0.72822\n",
            "Iteration 100, Train MSE: 0.62752, Test MSE: 0.62806\n",
            "Iteration 110, Train MSE: 0.55625, Test MSE: 0.55681\n",
            "Iteration 120, Train MSE: 0.47911, Test MSE: 0.47949\n",
            "Iteration 130, Train MSE: 0.41772, Test MSE: 0.41796\n",
            "Iteration 140, Train MSE: 0.36097, Test MSE: 0.36093\n",
            "Iteration 150, Train MSE: 0.31842, Test MSE: 0.31835\n",
            "Iteration 160, Train MSE: 0.27886, Test MSE: 0.27889\n",
            "Iteration 170, Train MSE: 0.24679, Test MSE: 0.24675\n",
            "Iteration 180, Train MSE: 0.21658, Test MSE: 0.21651\n",
            "Iteration 190, Train MSE: 0.19116, Test MSE: 0.19115\n",
            "Iteration 200, Train MSE: 0.16895, Test MSE: 0.16895\n",
            "Iteration 210, Train MSE: 0.15025, Test MSE: 0.15021\n",
            "Iteration 220, Train MSE: 0.13222, Test MSE: 0.13213\n",
            "Iteration 230, Train MSE: 0.11826, Test MSE: 0.11823\n",
            "Iteration 240, Train MSE: 0.10574, Test MSE: 0.10567\n",
            "Iteration 250, Train MSE: 0.09471, Test MSE: 0.09464\n",
            "Iteration 260, Train MSE: 0.08359, Test MSE: 0.08349\n",
            "Iteration 270, Train MSE: 0.07452, Test MSE: 0.07445\n",
            "Iteration 280, Train MSE: 0.06692, Test MSE: 0.06687\n",
            "Iteration 290, Train MSE: 0.06138, Test MSE: 0.06131\n",
            "Iteration 300, Train MSE: 0.05465, Test MSE: 0.05458\n",
            "Iteration 310, Train MSE: 0.04968, Test MSE: 0.04960\n",
            "Iteration 320, Train MSE: 0.04391, Test MSE: 0.04386\n",
            "Iteration 330, Train MSE: 0.03978, Test MSE: 0.03970\n",
            "Iteration 340, Train MSE: 0.03653, Test MSE: 0.03643\n",
            "Iteration 350, Train MSE: 0.03316, Test MSE: 0.03306\n",
            "Iteration 360, Train MSE: 0.03036, Test MSE: 0.03028\n",
            "Iteration 370, Train MSE: 0.02701, Test MSE: 0.02693\n",
            "Iteration 380, Train MSE: 0.02459, Test MSE: 0.02453\n",
            "Iteration 390, Train MSE: 0.02258, Test MSE: 0.02254\n",
            "Iteration 400, Train MSE: 0.02064, Test MSE: 0.02060\n",
            "Iteration 410, Train MSE: 0.01854, Test MSE: 0.01849\n",
            "Iteration 420, Train MSE: 0.01713, Test MSE: 0.01708\n",
            "Iteration 430, Train MSE: 0.01591, Test MSE: 0.01586\n",
            "Iteration 440, Train MSE: 0.01446, Test MSE: 0.01442\n",
            "Iteration 450, Train MSE: 0.01347, Test MSE: 0.01343\n",
            "Iteration 460, Train MSE: 0.01265, Test MSE: 0.01262\n",
            "Iteration 470, Train MSE: 0.01147, Test MSE: 0.01144\n",
            "Iteration 480, Train MSE: 0.01049, Test MSE: 0.01046\n",
            "Iteration 490, Train MSE: 0.00972, Test MSE: 0.00969\n",
            "Iteration 500, Train MSE: 0.00908, Test MSE: 0.00906\n"
          ]
        }
      ]
    },
    {
      "cell_type": "code",
      "execution_count": 13,
      "metadata": {
        "colab": {
          "base_uri": "https://localhost:8080/",
          "height": 480
        },
        "outputId": "58d8826b-366d-4fc7-f16a-588c677bafac",
        "id": "0eg7nAiDFptC"
      },
      "outputs": [
        {
          "output_type": "display_data",
          "data": {
            "text/plain": [
              "<Figure size 640x480 with 1 Axes>"
            ],
            "image/png": "[encoded data removed]"
          },
          "metadata": {}
        }
      ],
      "source": [
        "# Separate train and test MSE values\n",
        "train_mse = [mse_train for mse_train, _ in MSE_nmf]\n",
        "test_mse = [mse_test for _, mse_test in MSE_nmf]\n",
        "\n",
        "# Plot train and test MSE values together\n",
        "plt.plot(train_mse, '-', lw=3, color='blue', label='Train MSE')\n",
        "plt.plot(test_mse, '-', lw=3, color='red', label='Test MSE')\n",
        "plt.grid()\n",
        "plt.title('MSE from Low Rank Factorization', fontsize=15)\n",
        "plt.xlabel('Iteration', fontsize=15)\n",
        "plt.ylabel('MSE', fontsize=15)\n",
        "plt.legend()\n",
        "plt.show()"
      ]
    },
    {
      "cell_type": "code",
      "source": [
        "# Separate train and test MSE values\n",
        "train_mse = [mse_train for mse_train, _ in MSE_nmf]\n",
        "test_mse = [mse_test for _, mse_test in MSE_nmf]\n",
        "\n",
        "# Plot train and test MSE values together\n",
        "plt.plot(train_mse, '-', lw=3, color='blue', label='Train MSE')\n",
        "\n",
        "plt.grid()\n",
        "plt.title('MSE from Low Rank Factorization', fontsize=15)\n",
        "plt.xlabel('Iteration', fontsize=15)\n",
        "plt.ylabel('MSE', fontsize=15)\n",
        "plt.legend()\n",
        "plt.show()"
      ],
      "metadata": {
        "colab": {
          "base_uri": "https://localhost:8080/",
          "height": 480
        },
        "id": "5dMkII7kpci7",
        "outputId": "8b76e8f1-f981-4e35-d86f-d6228dbcd196"
      },
      "execution_count": 14,
      "outputs": [
        {
          "output_type": "display_data",
          "data": {
            "text/plain": [
              "<Figure size 640x480 with 1 Axes>"
            ],
            "image/png": "[encoded data removed]"
          },
          "metadata": {}
        }
      ]
    },
    {
      "cell_type": "code",
      "source": [
        "test_user = combined_test_df['userID'].values\n",
        "test_song = combined_test_df['songID'].values\n",
        "test_song_index = [song_ids.index(song_id) for song_id in test_song]\n",
        "print(test_user)\n",
        "print(test_user.shape)\n",
        "print(len(test_song_index))\n",
        "# Compute MSE for the combined training dataset\n",
        "U_batch_test = U[test_user]\n",
        "S_batch_test = S[test_song_index]\n",
        "print(U_batch_test.shape)\n",
        "print(S_batch_test.shape)\n",
        "ratings_batch_test = combined_test_df['rating']\n",
        "print(ratings_batch_test)\n",
        "print(ratings_batch_test.shape)"
      ],
      "metadata": {
        "colab": {
          "base_uri": "https://localhost:8080/"
        },
        "id": "9svhshG0pg-h",
        "outputId": "cafb6c64-9fcc-4984-f7c4-ffabf20499bc"
      },
      "execution_count": 23,
      "outputs": [
        {
          "output_type": "stream",
          "name": "stdout",
          "text": [
            "[148447 171584  85657 ...  94458  49466 182772]\n",
            "(400000,)\n",
            "400000\n",
            "(400000, 10)\n",
            "(400000, 10)\n",
            "0         1\n",
            "1         3\n",
            "2         5\n",
            "3         1\n",
            "4         4\n",
            "         ..\n",
            "399995    3\n",
            "399996    5\n",
            "399997    5\n",
            "399998    5\n",
            "399999    4\n",
            "Name: rating, Length: 400000, dtype: int64\n",
            "(400000,)\n"
          ]
        }
      ]
    },
    {
      "cell_type": "code",
      "source": [
        "MSE_test = mse(U_batch_test, S_batch_test, ratings_batch_test)"
      ],
      "metadata": {
        "id": "eGiCJcCcqFMG"
      },
      "execution_count": 21,
      "outputs": []
    },
    {
      "cell_type": "code",
      "source": [
        "MSE_test"
      ],
      "metadata": {
        "colab": {
          "base_uri": "https://localhost:8080/"
        },
        "id": "UPMws_RqsBz_",
        "outputId": "e1fa6068-a838-4669-983c-6ec201ed9e69"
      },
      "execution_count": 22,
      "outputs": [
        {
          "output_type": "execute_result",
          "data": {
            "text/plain": [
              "0.009280945128165656"
            ]
          },
          "metadata": {},
          "execution_count": 22
        }
      ]
    },
    {
      "cell_type": "code",
      "source": [],
      "metadata": {
        "id": "MJtFlmWSsDkd"
      },
      "execution_count": null,
      "outputs": []
    }
  ]
}
{
 "cells": [
  {
   "cell_type": "code",
   "execution_count": 19,
   "id": "eeefd540",
   "metadata": {},
   "outputs": [],
   "source": [
    "import jax\n",
    "import jax.numpy as jnp\n",
    "import numpy as np\n",
    "import pylab as plt\n",
    "import scipy\n",
    "import os\n",
    "os.environ['JAX_PLATFORM_NAME'] = 'cpu' "
   ]
  },
  {
   "cell_type": "code",
   "execution_count": 4,
   "id": "4e78abf8",
   "metadata": {},
   "outputs": [
    {
     "name": "stdout",
     "output_type": "stream",
     "text": [
      "         'userID'  'songID'  'rating'\n",
      "0               0      7171         5\n",
      "1               0      8637         4\n",
      "2               0     21966         4\n",
      "3               0     35821         5\n",
      "4               0     82446         5\n",
      "...           ...       ...       ...\n",
      "1999995    199999     75840         2\n",
      "1999996    199999     85921         1\n",
      "1999997    199999    116763         1\n",
      "1999998    199999    128758         1\n",
      "1999999    199999    129321         1\n",
      "\n",
      "[2000000 rows x 3 columns]\n"
     ]
    }
   ],
   "source": [
    "import pandas as pd\n",
    "\n",
    "# Read in the songsDataset.csv file\n",
    "songs_df = pd.read_csv('songsDataset.csv')\n",
    "\n",
    "# Print the DataFrame\n",
    "print(songs_df)\n"
   ]
  },
  {
   "cell_type": "code",
   "execution_count": 31,
   "id": "1c52f836",
   "metadata": {},
   "outputs": [
    {
     "name": "stdout",
     "output_type": "stream",
     "text": [
      "Number of unique songID: 127771\n",
      "Number of unique userID: 200000\n",
      "Largest songID: 136735\n",
      "Smallest songID: 0\n"
     ]
    }
   ],
   "source": [
    "# prompt: calculate the number of unique songID and userID appear in the df seperately\n",
    "\n",
    "print(\"Number of unique songID:\", songs_df[\"'songID'\"].nunique())\n",
    "print(\"Number of unique userID:\", songs_df[\"'userID'\"].nunique())\n",
    "largest_song_id = songs_df[\"'songID'\"].max()\n",
    "smallest_song_id = songs_df[\"'songID'\"].min()\n",
    "print(\"Largest songID:\", largest_song_id)\n",
    "print(\"Smallest songID:\", smallest_song_id)"
   ]
  },
  {
   "cell_type": "code",
   "execution_count": 6,
   "id": "d9066d36",
   "metadata": {},
   "outputs": [],
   "source": [
    "N_songs = 127771\n",
    "N_users = 200000\n",
    "N_ratings = 2000000"
   ]
  },
  {
   "cell_type": "code",
   "execution_count": 38,
   "id": "4117a9d4",
   "metadata": {},
   "outputs": [
    {
     "name": "stdout",
     "output_type": "stream",
     "text": [
      "0\n"
     ]
    }
   ],
   "source": [
    "# dimension of the factos\n",
    "d_factors = 5\n",
    "\n",
    "# create factors for each users and each film\n",
    "U_star = np.random.normal(0,1, size=(N_users, d_factors)) / np.sqrt(d_factors)\n",
    "S_star = np.random.normal(0,1, size=(largest_song_id+1, d_factors)) / np.sqrt(d_factors)\n",
    "\n",
    "# create ratings\n",
    "Obs_users = songs_df[\"'userID'\"].values\n",
    "Obs_songs = songs_df[\"'songID'\"].values\n",
    "Ratings = songs_df[\"'rating'\"].values\n",
    "\n",
    "print(Obs_users[0])"
   ]
  },
  {
   "cell_type": "code",
   "execution_count": 39,
   "id": "51b26764",
   "metadata": {},
   "outputs": [
    {
     "data": {
      "text/plain": [
       "((2000000,), (2000000,), (2000000,))"
      ]
     },
     "execution_count": 39,
     "metadata": {},
     "output_type": "execute_result"
    }
   ],
   "source": [
    "# DATA\n",
    "Obs_users.shape, Obs_songs.shape, Ratings.shape"
   ]
  },
  {
   "cell_type": "code",
   "execution_count": 40,
   "id": "f4f4704a",
   "metadata": {},
   "outputs": [],
   "source": [
    "# our parameters\n",
    "# all the factor-vectors for the users: dimension N_users x d_factors\n",
    "U_init = np.random.normal(0,1, size=(N_users, d_factors)) / np.sqrt(d_factors)\n",
    "# all the factor-vectors for the films: dimension N_films x d_factors\n",
    "S_init = np.random.normal(0,1, size=(largest_song_id+1, d_factors)) / np.sqrt(d_factors)"
   ]
  },
  {
   "cell_type": "code",
   "execution_count": 34,
   "id": "5c0829db",
   "metadata": {},
   "outputs": [],
   "source": [
    "@jax.jit\n",
    "def loss(U_single, S_single, rating_single):\n",
    "    \"\"\" compute the error for a single pair of user and film\n",
    "    \"\"\"\n",
    "    pred = jnp.dot(U_single, S_single)\n",
    "    error = rating_single - pred\n",
    "    return error**2\n",
    "\n",
    "loss_grad = jax.jit( jax.grad(loss, argnums=(0,1)) )"
   ]
  },
  {
   "cell_type": "code",
   "execution_count": 35,
   "id": "951d9f5f",
   "metadata": {},
   "outputs": [],
   "source": [
    "def mse(U_batch, S_batch, ratings_batch):\n",
    "    \"\"\" compute the MSE on a batch of users x films\"\"\"\n",
    "    predictions = np.sum(U_batch * S_batch, axis=1)\n",
    "    errors = ratings_batch - predictions\n",
    "    return np.mean(errors**2)"
   ]
  },
  {
   "cell_type": "code",
   "execution_count": 43,
   "id": "21869487",
   "metadata": {},
   "outputs": [
    {
     "name": "stdout",
     "output_type": "stream",
     "text": [
      "iter 0, mse = nan\n",
      "iter 1, mse = nan\n",
      "iter 2, mse = nan\n"
     ]
    },
    {
     "ename": "KeyboardInterrupt",
     "evalue": "",
     "output_type": "error",
     "traceback": [
      "\u001b[0;31m---------------------------------------------------------------------------\u001b[0m",
      "\u001b[0;31mKeyboardInterrupt\u001b[0m                         Traceback (most recent call last)",
      "\u001b[0;32m/var/folders/gl/q4jhw8kd40d2brm0my6_5ql80000gn/T/ipykernel_30992/1166656876.py\u001b[0m in \u001b[0;36m<module>\u001b[0;34m\u001b[0m\n\u001b[1;32m     15\u001b[0m         \u001b[0mU_grad\u001b[0m\u001b[0;34m,\u001b[0m \u001b[0mS_grad\u001b[0m \u001b[0;34m=\u001b[0m \u001b[0mloss_grad\u001b[0m\u001b[0;34m(\u001b[0m\u001b[0mU\u001b[0m\u001b[0;34m[\u001b[0m\u001b[0muser_id\u001b[0m\u001b[0;34m]\u001b[0m\u001b[0;34m,\u001b[0m \u001b[0mS\u001b[0m\u001b[0;34m[\u001b[0m\u001b[0msong_id\u001b[0m\u001b[0;34m]\u001b[0m\u001b[0;34m,\u001b[0m \u001b[0mrating\u001b[0m\u001b[0;34m)\u001b[0m\u001b[0;34m\u001b[0m\u001b[0;34m\u001b[0m\u001b[0m\n\u001b[1;32m     16\u001b[0m         \u001b[0;31m# let's do the update\u001b[0m\u001b[0;34m\u001b[0m\u001b[0;34m\u001b[0m\u001b[0m\n\u001b[0;32m---> 17\u001b[0;31m         \u001b[0mU\u001b[0m\u001b[0;34m[\u001b[0m\u001b[0muser_id\u001b[0m\u001b[0;34m]\u001b[0m \u001b[0;34m-=\u001b[0m \u001b[0mlearning_rate\u001b[0m \u001b[0;34m*\u001b[0m \u001b[0mU_grad\u001b[0m\u001b[0;34m\u001b[0m\u001b[0;34m\u001b[0m\u001b[0m\n\u001b[0m\u001b[1;32m     18\u001b[0m         \u001b[0mS\u001b[0m\u001b[0;34m[\u001b[0m\u001b[0msong_id\u001b[0m\u001b[0;34m]\u001b[0m \u001b[0;34m-=\u001b[0m \u001b[0mlearning_rate\u001b[0m \u001b[0;34m*\u001b[0m \u001b[0mS_grad\u001b[0m\u001b[0;34m\u001b[0m\u001b[0;34m\u001b[0m\u001b[0m\n\u001b[1;32m     19\u001b[0m     \u001b[0;31m# let's computhe the MSE\u001b[0m\u001b[0;34m\u001b[0m\u001b[0;34m\u001b[0m\u001b[0m\n",
      "\u001b[0;32m/opt/anaconda3/lib/python3.9/site-packages/jax/_src/numpy/array_methods.py\u001b[0m in \u001b[0;36mdeferring_binary_op\u001b[0;34m(self, other)\u001b[0m\n\u001b[1;32m    262\u001b[0m     \u001b[0margs\u001b[0m \u001b[0;34m=\u001b[0m \u001b[0;34m(\u001b[0m\u001b[0mother\u001b[0m\u001b[0;34m,\u001b[0m \u001b[0mself\u001b[0m\u001b[0;34m)\u001b[0m \u001b[0;32mif\u001b[0m \u001b[0mswap\u001b[0m \u001b[0;32melse\u001b[0m \u001b[0;34m(\u001b[0m\u001b[0mself\u001b[0m\u001b[0;34m,\u001b[0m \u001b[0mother\u001b[0m\u001b[0;34m)\u001b[0m\u001b[0;34m\u001b[0m\u001b[0;34m\u001b[0m\u001b[0m\n\u001b[1;32m    263\u001b[0m     \u001b[0;32mif\u001b[0m \u001b[0misinstance\u001b[0m\u001b[0;34m(\u001b[0m\u001b[0mother\u001b[0m\u001b[0;34m,\u001b[0m \u001b[0m_accepted_binop_types\u001b[0m\u001b[0;34m)\u001b[0m\u001b[0;34m:\u001b[0m\u001b[0;34m\u001b[0m\u001b[0;34m\u001b[0m\u001b[0m\n\u001b[0;32m--> 264\u001b[0;31m       \u001b[0;32mreturn\u001b[0m \u001b[0mbinary_op\u001b[0m\u001b[0;34m(\u001b[0m\u001b[0;34m*\u001b[0m\u001b[0margs\u001b[0m\u001b[0;34m)\u001b[0m\u001b[0;34m\u001b[0m\u001b[0;34m\u001b[0m\u001b[0m\n\u001b[0m\u001b[1;32m    265\u001b[0m     \u001b[0;31m# Note: don't use isinstance here, because we don't want to raise for\u001b[0m\u001b[0;34m\u001b[0m\u001b[0;34m\u001b[0m\u001b[0m\n\u001b[1;32m    266\u001b[0m     \u001b[0;31m# subclasses, e.g. NamedTuple objects that may override operators.\u001b[0m\u001b[0;34m\u001b[0m\u001b[0;34m\u001b[0m\u001b[0m\n",
      "\u001b[0;31mKeyboardInterrupt\u001b[0m: "
     ]
    }
   ],
   "source": [
    "niter = 500\n",
    "learning_rate = 0.1\n",
    "\n",
    "U = U_init.copy()\n",
    "S = S_init.copy()\n",
    "\n",
    "for it in range(niter):\n",
    "    for index in range(N_ratings):\n",
    "        # fetch a random user, film and rating\n",
    "        #index = np.random.randint(N_ratings)\n",
    "        user_id = Obs_users[index]\n",
    "        song_id = Obs_songs[index]\n",
    "        rating = Ratings[index]\n",
    "        # lt's compute the gradient\n",
    "        U_grad, S_grad = loss_grad(U[user_id], S[song_id], rating)\n",
    "        # let's do the update\n",
    "        U[user_id] -= learning_rate * U_grad\n",
    "        S[song_id] -= learning_rate * S_grad\n",
    "    # let's computhe the MSE\n",
    "    # print every 10 iterations\n",
    "    #if it % 10 == 0:\n",
    "    U_batch = U[Obs_users[:10000]]\n",
    "    S_batch = S[Obs_songs[:10000]]\n",
    "    ratings_batch = Ratings[:10000]\n",
    "    mse_current = mse(U_batch, S_batch, ratings_batch)\n",
    "    print(f\"iter {it}, mse = {mse_current:.5f}\")"
   ]
  },
  {
   "cell_type": "code",
   "execution_count": null,
   "id": "c15296f1",
   "metadata": {},
   "outputs": [],
   "source": []
  }
 ],
 "metadata": {
  "kernelspec": {
   "display_name": "Python 3 (ipykernel)",
   "language": "python",
   "name": "python3"
  },
  "language_info": {
   "codemirror_mode": {
    "name": "ipython",
    "version": 3
   },
   "file_extension": ".py",
   "mimetype": "text/x-python",
   "name": "python",
   "nbconvert_exporter": "python",
   "pygments_lexer": "ipython3",
   "version": "3.9.7"
  }
 },
 "nbformat": 4,
 "nbformat_minor": 5
}

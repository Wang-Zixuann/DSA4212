{
 "cells": [
  {
   "cell_type": "code",
   "execution_count": 4,
   "metadata": {},
   "outputs": [],
   "source": [
    "import numpy as np\n",
    "import jax\n",
    "import jax.numpy as jnp\n",
    "import pylab as plt\n",
    "import pandas as pd\n",
    "from sklearn.model_selection import train_test_split"
   ]
  },
  {
   "cell_type": "code",
   "execution_count": 11,
   "metadata": {},
   "outputs": [
    {
     "data": {
      "text/plain": [
       "(2000000, 3)"
      ]
     },
     "execution_count": 11,
     "metadata": {},
     "output_type": "execute_result"
    }
   ],
   "source": [
    "data = pd.read_csv(\"/Users/apple/Desktop/DSA4212/Project 1/songsDataset.csv\",header=0, names=['userID','songID','rating'])\n",
    "data.shape"
   ]
  },
  {
   "cell_type": "code",
   "execution_count": 20,
   "metadata": {},
   "outputs": [
    {
     "data": {
      "text/plain": [
       "<AxesSubplot:>"
      ]
     },
     "execution_count": 20,
     "metadata": {},
     "output_type": "execute_result"
    },
    {
     "data": {
      "image/png": "[encoded data removed]",
      "text/plain": [
       "<Figure size 432x288 with 1 Axes>"
      ]
     },
     "metadata": {
      "needs_background": "light"
     },
     "output_type": "display_data"
    }
   ],
   "source": [
    "data['songID'].hist()"
   ]
  },
  {
   "cell_type": "code",
   "execution_count": 3,
   "metadata": {},
   "outputs": [
    {
     "data": {
      "text/plain": [
       "<AxesSubplot:>"
      ]
     },
     "execution_count": 3,
     "metadata": {},
     "output_type": "execute_result"
    },
    {
     "data": {
      "image/png": "[encoded data removed]",
      "text/plain": [
       "<Figure size 432x288 with 1 Axes>"
      ]
     },
     "metadata": {
      "needs_background": "light"
     },
     "output_type": "display_data"
    }
   ],
   "source": [
    "data['rating'].hist()"
   ]
  },
  {
   "cell_type": "code",
   "execution_count": 12,
   "metadata": {},
   "outputs": [],
   "source": [
    "# Calculate the size of each partition\n",
    "total_size = len(data)\n",
    "train_size = total_size * 8 //10  # 80% for training (and make sure the index are integer type not float)\n",
    "test_size = total_size - train_size  # Remaining 20% for testing\n",
    "partition_sizes = [train_size // 8] * 8 + [test_size // 2] * 2\n",
    "\n",
    "# Shuffle the DataFrame rows\n",
    "df_shuffled = data.sample(frac=1, random_state=42).reset_index(drop=True)\n",
    "\n",
    "# Split the shuffled DataFrame into partitions\n",
    "partitions = [df_shuffled.iloc[i:i+size] for i, size in enumerate(partition_sizes)]\n",
    "\n",
    "# Assign partitions to train and test datasets\n",
    "train_datasets = partitions[:8]\n",
    "test_datasets = partitions[8:]"
   ]
  },
  {
   "cell_type": "code",
   "execution_count": 13,
   "metadata": {},
   "outputs": [],
   "source": [
    "N_songs = data['songID'].nunique() # 127771\n",
    "N_users = data['userID'].nunique() # 200000\n",
    "N_ratings = data.shape[0] # 2000000\n",
    "user_ids = list(data['userID'].unique())\n",
    "song_ids = list(data['songID'].unique())\n",
    "\n",
    "# Train dataset\n",
    "combined_array1 = np.concatenate((train_datasets[0],train_datasets[1],train_datasets[2],train_datasets[3],train_datasets[4],train_datasets[5],train_datasets[6],train_datasets[7]),axis=0)\n",
    "train_df = pd.DataFrame(combined_array1, columns=['userID','songID','rating'])\n",
    "train_df.reset_index(drop=True, inplace=True) # Optional: Reset index if you want sequential index\n",
    "len_train_df = train_df.shape[0]\n",
    "\n",
    "train_users = np.copy(train_df['userID'])\n",
    "train_songs = np.copy(train_df['songID'])\n",
    "train_ratings = np.copy(train_df['rating'])\n",
    "\n",
    "# Test dataset\n",
    "combined_array2 = np.concatenate((test_datasets[0], test_datasets[1]), axis=0)\n",
    "test_df = pd.DataFrame(combined_array2, columns=['userID','songID','rating'])\n",
    "test_df.reset_index(drop=True, inplace=True)\n",
    "\n",
    "test_users = np.copy(test_df['userID'])\n",
    "test_songs = np.copy(test_df['songID'])\n",
    "test_ratings = np.copy(test_df['rating'])"
   ]
  },
  {
   "cell_type": "code",
   "execution_count": 17,
   "metadata": {},
   "outputs": [],
   "source": [
    "@jax.jit\n",
    "def loss(U_single,S_single,R_single): # user U, song S, rating R\n",
    "    prediction = jnp.dot(U_single,S_single)\n",
    "    error = (R_single-prediction)**2\n",
    "    return error\n",
    "\n",
    "loss_grad_U = jax.jit(jax.grad(loss, argnums=0))\n",
    "loss_grad_S = jax.jit(jax.grad(loss, argnums=1))\n",
    "\n",
    "def mse(U_batch,S_batch,R_batch):\n",
    "    predictions = np.sum(U_batch * S_batch,axis=1)\n",
    "    errors = (R_batch-predictions)**2\n",
    "    return np.mean(errors)"
   ]
  },
  {
   "cell_type": "code",
   "execution_count": 15,
   "metadata": {},
   "outputs": [],
   "source": [
    "d_factors = 10\n",
    "U_init = np.random.normal(3,1,size=(N_users,d_factors))/np.sqrt(d_factors) # 200000 x 10 # 3 is the midpoint of the rating scale 1-5\n",
    "S_init = np.random.normal(3,1,size=(N_songs,d_factors))/np.sqrt(d_factors) # 127771 x 10\n",
    "\n",
    "niter = 50\n",
    "learning_rate = 0.03\n",
    "U = U_init.copy()\n",
    "S = S_init.copy()\n",
    "MSE = []"
   ]
  },
  {
   "cell_type": "code",
   "execution_count": 18,
   "metadata": {},
   "outputs": [
    {
     "name": "stdout",
     "output_type": "stream",
     "text": [
      "iter 1, mse=13.748\n",
      "iter 10, mse=4.184\n",
      "iter 20, mse=1.988\n",
      "iter 30, mse=1.105\n",
      "iter 40, mse=0.643\n",
      "iter 50, mse=0.406\n"
     ]
    }
   ],
   "source": [
    "# Low Rank Factorization\n",
    "for i in range(niter):\n",
    "    for index in range(20000):\n",
    "        index = np.random.randint(len_train_df)\n",
    "        user_index = train_users[index] # since user_index and user_id are the same in this dataset\n",
    "        song_id = train_songs[index]\n",
    "        song_index = song_ids.index(song_id)\n",
    "        rating = train_ratings[index]\n",
    "\n",
    "        U_grad = loss_grad_U(U[user_index],S[song_index],rating)\n",
    "        S_grad = loss_grad_S(U[user_index],S[song_index],rating)\n",
    "        U[user_index] -= learning_rate * U_grad\n",
    "        S[song_index] -= learning_rate * S_grad\n",
    " \n",
    "    if ((i+1)%10==0) | (i==0):\n",
    "        user_indices = [user_ids.index(j) for j in train_users[:10000]]\n",
    "        U_batch = U[user_indices]\n",
    "        song_indices = [song_ids.index(k) for k in train_songs[:10000]]\n",
    "        S_batch = S[song_indices]\n",
    "        R_batch = train_ratings[:10000]\n",
    "\n",
    "        mse_current = mse(U_batch,S_batch,R_batch)\n",
    "        MSE.append(mse_current)\n",
    "        print(f\"iter {i+1}, mse={mse_current:.3f}\")"
   ]
  },
  {
   "cell_type": "code",
   "execution_count": 19,
   "metadata": {},
   "outputs": [
    {
     "data": {
      "text/plain": [
       "Text(0.5, 0, 'Iteration')"
      ]
     },
     "execution_count": 19,
     "metadata": {},
     "output_type": "execute_result"
    },
    {
     "data": {
      "image/png": "[encoded data removed]",
      "text/plain": [
       "<Figure size 432x288 with 1 Axes>"
      ]
     },
     "metadata": {
      "needs_background": "light"
     },
     "output_type": "display_data"
    }
   ],
   "source": [
    "plt.plot(MSE,'-',lw=2)\n",
    "plt.grid()\n",
    "plt.title('MSE from Low Rank Factorization',fontsize=12)\n",
    "plt.xlabel('Iteration',fontsize=12)"
   ]
  },
  {
   "cell_type": "code",
   "execution_count": 21,
   "metadata": {},
   "outputs": [
    {
     "name": "stdout",
     "output_type": "stream",
     "text": [
      "RMSE: 0.6429489195764567\n"
     ]
    }
   ],
   "source": [
    "# Generate predictions\n",
    "predicted_ratings = []\n",
    "for user_id, song_id in zip(test_users,test_songs):\n",
    "\n",
    "    user_embedding = U[user_id]\n",
    "    song_index = song_ids.index(song_id)\n",
    "    song_embedding = S[song_index]\n",
    "\n",
    "    # Predict the rating using dot product of user and item embeddings\n",
    "    predicted_rating = np.dot(user_embedding, song_embedding)\n",
    "\n",
    "    predicted_ratings.append(predicted_rating)\n",
    "\n",
    "# Evaluate predictions\n",
    "rmse = np.sqrt(np.mean((predicted_ratings - test_ratings) ** 2))\n",
    "print(\"RMSE:\", rmse)"
   ]
  }
 ],
 "metadata": {
  "kernelspec": {
   "display_name": "Python 3",
   "language": "python",
   "name": "python3"
  },
  "language_info": {
   "codemirror_mode": {
    "name": "ipython",
    "version": 3
   },
   "file_extension": ".py",
   "mimetype": "text/x-python",
   "name": "python",
   "nbconvert_exporter": "python",
   "pygments_lexer": "ipython3",
   "version": "3.8.5"
  }
 },
 "nbformat": 4,
 "nbformat_minor": 2
}

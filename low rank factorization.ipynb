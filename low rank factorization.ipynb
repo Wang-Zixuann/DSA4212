{
 "cells": [
  {
   "cell_type": "code",
   "execution_count": 17,
   "metadata": {},
   "outputs": [],
   "source": [
    "import numpy as np\n",
    "import jax\n",
    "import jax.numpy as jnp\n",
    "import pylab as plt\n",
    "import pandas as pd\n",
    "from sklearn.model_selection import train_test_split"
   ]
  },
  {
   "cell_type": "code",
   "execution_count": 18,
   "metadata": {},
   "outputs": [
    {
     "data": {
      "text/plain": [
       "(2000000, 3)"
      ]
     },
     "execution_count": 18,
     "metadata": {},
     "output_type": "execute_result"
    }
   ],
   "source": [
    "data = pd.read_csv(\"/Users/apple/Desktop/DSA4212/Project 1/songsDataset.csv\",header=0, names=['userID','songID','rating'])\n",
    "data.shape"
   ]
  },
  {
   "cell_type": "code",
   "execution_count": 19,
   "metadata": {},
   "outputs": [
    {
     "data": {
      "text/plain": [
       "<AxesSubplot:>"
      ]
     },
     "execution_count": 19,
     "metadata": {},
     "output_type": "execute_result"
    },
    {
     "data": {
      "image/png": "[encoded data removed]",
      "text/plain": [
       "<Figure size 432x288 with 1 Axes>"
      ]
     },
     "metadata": {
      "needs_background": "light"
     },
     "output_type": "display_data"
    }
   ],
   "source": [
    "data['rating'].hist()"
   ]
  },
  {
   "cell_type": "code",
   "execution_count": 21,
   "metadata": {},
   "outputs": [],
   "source": [
    "# Calculate the size of each partition\n",
    "total_size = len(data)\n",
    "train_size = total_size * 8 //10  # 80% for training (and make sure the index are integer type not float)\n",
    "test_size = total_size - train_size  # Remaining 20% for testing\n",
    "partition_sizes = [train_size // 8] * 8 + [test_size // 2] * 2\n",
    "\n",
    "# Shuffle the DataFrame rows\n",
    "df_shuffled = data.sample(frac=1, random_state=42).reset_index(drop=True)\n",
    "\n",
    "# Split the shuffled DataFrame into partitions\n",
    "partitions = [df_shuffled.iloc[i:i+size] for i, size in enumerate(partition_sizes)]\n",
    "\n",
    "# Assign partitions to train and test datasets\n",
    "train_datasets = partitions[:8]\n",
    "test_datasets = partitions[8:]"
   ]
  },
  {
   "cell_type": "code",
   "execution_count": 94,
   "metadata": {},
   "outputs": [],
   "source": [
    "# Train dataset\n",
    "combined_array1 = np.concatenate((train_datasets[0],train_datasets[1],train_datasets[2],train_datasets[3],train_datasets[4],train_datasets[5],train_datasets[6],train_datasets[7]),axis=0)\n",
    "train_df = pd.DataFrame(combined_array1, columns=['userID','songID','rating'])\n",
    "train_df.reset_index(drop=True, inplace=True) # Optional: Reset index if you want sequential index\n",
    "\n",
    "#n_users_train = train_df['userID'].nunique()\n",
    "#n_songs_train = train_df['songID'].nunique()\n",
    "#n_ratings_train = train_df.shape[0] #1600000\n",
    "\n",
    "song_ids = list(train_df['songID'].unique())\n",
    "train_users = np.copy(train_df['userID'])\n",
    "train_songs = np.copy(train_df['songID'])\n",
    "train_ratings = np.copy(train_df['rating'])\n",
    "\n",
    "# Test dataset\n",
    "combined_array2 = np.concatenate((test_datasets[0], test_datasets[1]), axis=0)\n",
    "test_df = pd.DataFrame(combined_array2, columns=['userID','songID','rating'])\n",
    "test_df.reset_index(drop=True, inplace=True)\n",
    "\n",
    "song_ids = list(train_df['songID'].unique())\n",
    "test_users = np.copy(test_df['userID'])\n",
    "test_songs = np.copy(test_df['songID'])\n",
    "test_ratings = np.copy(test_df['rating'])"
   ]
  },
  {
   "cell_type": "code",
   "execution_count": 85,
   "metadata": {},
   "outputs": [],
   "source": [
    "@jax.jit\n",
    "def loss(U_single,S_single,rating_single):\n",
    "    pred = jnp.dot(U_single,S_single)\n",
    "    error = (rating_single-pred)**2\n",
    "    return error\n",
    "\n",
    "# loss_grad = jax.jit(jax.grad(loss,argnums=(0,1)))\n",
    "loss_grad_U = jax.jit(jax.grad(loss, argnums=0))\n",
    "loss_grad_S = jax.jit(jax.grad(loss, argnums=1))\n",
    "\n",
    "def mse(U_batch,S_batch,ratings_batch):\n",
    "    predictions = np.sum(U_batch*S_batch,axis=1)\n",
    "    errors = (ratings_batch-predictions)**2\n",
    "    return np.mean(errors)"
   ]
  },
  {
   "cell_type": "code",
   "execution_count": 91,
   "metadata": {},
   "outputs": [],
   "source": [
    "d_factors = 10\n",
    "U_init = np.random.normal(3,1,size=(train_df['userID'].max()+1,d_factors))/np.sqrt(d_factors) # 3 is the midpoint of the rating scale 1-5 ???\n",
    "S_init = np.random.normal(3,1,size=(train_df['songID'].max()+1,d_factors))/np.sqrt(d_factors)\n",
    "\n",
    "niter = 100\n",
    "learning_rate = 0.05\n",
    "U = U_init.copy()\n",
    "S = S_init.copy()\n",
    "MSE = []"
   ]
  },
  {
   "cell_type": "code",
   "execution_count": 92,
   "metadata": {},
   "outputs": [
    {
     "name": "stdout",
     "output_type": "stream",
     "text": [
      "iter 1, mse=17.97384\n",
      "iter 10, mse=6.69267\n",
      "iter 20, mse=5.04166\n",
      "iter 30, mse=4.45731\n",
      "iter 40, mse=4.19457\n",
      "iter 50, mse=4.04010\n",
      "iter 60, mse=3.95186\n",
      "iter 70, mse=3.91253\n",
      "iter 80, mse=3.87087\n",
      "iter 90, mse=3.86902\n",
      "iter 100, mse=3.86348\n"
     ]
    }
   ],
   "source": [
    "# Low Rank Factorization\n",
    "for i in range(niter):\n",
    "    for index in range(20000):\n",
    "        index = np.random.randint(1600000)\n",
    "        user_id = train_users[index]\n",
    "        song_id = train_songs[index]\n",
    "        rating = train_ratings[index]\n",
    "        song_index = song_ids.index(song_id)\n",
    "\n",
    "        U_grad = loss_grad_U(U[user_id],S[song_index],rating)\n",
    "        S_grad = loss_grad_S(U[user_id],S[song_index],rating)\n",
    "        U[user_id] -= learning_rate*U_grad\n",
    "        S[song_index] -= learning_rate*S_grad\n",
    "        \n",
    "    if ((i+1)%10==0) | (i==0):\n",
    "        U_batch = U[:10000]\n",
    "        song_indices = [song_ids.index(e) for e in train_songs[:10000]]\n",
    "        V_batch = S[song_indices]\n",
    "        ratings_batch = train_ratings[:10000]\n",
    "        mse_current = mse(U_batch,V_batch,ratings_batch)\n",
    "        MSE.append(mse_current)\n",
    "        print(f\"iter {i+1}, mse={mse_current:.5f}\")"
   ]
  },
  {
   "cell_type": "code",
   "execution_count": 93,
   "metadata": {},
   "outputs": [
    {
     "data": {
      "text/plain": [
       "Text(0.5, 0, 'iteration')"
      ]
     },
     "execution_count": 93,
     "metadata": {},
     "output_type": "execute_result"
    },
    {
     "data": {
      "image/png": "[encoded data removed]",
      "text/plain": [
       "<Figure size 432x288 with 1 Axes>"
      ]
     },
     "metadata": {
      "needs_background": "light"
     },
     "output_type": "display_data"
    }
   ],
   "source": [
    "plt.plot(MSE,'-',lw=2)\n",
    "plt.grid()\n",
    "plt.title('MSE from Low Rank Factorization',fontsize=15)\n",
    "plt.xlabel('iteration',fontsize=15)"
   ]
  },
  {
   "cell_type": "code",
   "execution_count": 95,
   "metadata": {},
   "outputs": [
    {
     "name": "stdout",
     "output_type": "stream",
     "text": [
      "RMSE: 3.1847290945031\n"
     ]
    }
   ],
   "source": [
    "# Generate predictions\n",
    "predicted_ratings = []\n",
    "for user_id, song_id in zip(test_users,test_songs):\n",
    "\n",
    "    user_embedding = U[user_id]\n",
    "    song_embedding = S[song_id]\n",
    "\n",
    "    # Predict the rating using dot product of user and item embeddings\n",
    "    predicted_rating = np.dot(user_embedding, song_embedding)\n",
    "\n",
    "    predicted_ratings.append(predicted_rating)\n",
    "\n",
    "# Evaluate predictions\n",
    "rmse = np.sqrt(np.mean((predicted_ratings - test_ratings) ** 2))\n",
    "print(\"RMSE:\", rmse)"
   ]
  }
 ],
 "metadata": {
  "kernelspec": {
   "display_name": "Python 3",
   "language": "python",
   "name": "python3"
  },
  "language_info": {
   "codemirror_mode": {
    "name": "ipython",
    "version": 3
   },
   "file_extension": ".py",
   "mimetype": "text/x-python",
   "name": "python",
   "nbconvert_exporter": "python",
   "pygments_lexer": "ipython3",
   "version": "3.8.5"
  }
 },
 "nbformat": 4,
 "nbformat_minor": 2
}

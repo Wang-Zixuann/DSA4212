{
 "cells": [
  {
   "cell_type": "code",
   "execution_count": 1,
   "id": "36548a4d",
   "metadata": {},
   "outputs": [],
   "source": [
    "import pandas as pd\n",
    "import numpy as np\n",
    "\n",
    "import jax\n",
    "import jax.numpy as jnp\n",
    "import pylab as plt"
   ]
  },
  {
   "cell_type": "code",
   "execution_count": 2,
   "id": "7df88161",
   "metadata": {},
   "outputs": [],
   "source": [
    "df = pd.read_csv(\"D:\\Academic\\Y4S2\\DSA4212\\Assignment\\songsDataset.csv\", header=0, names=['userID','songID','rating'])"
   ]
  },
  {
   "cell_type": "markdown",
   "id": "a2982721-a7c3-4065-bf0b-b6e41ac185d2",
   "metadata": {},
   "source": [
    "### Data Split"
   ]
  },
  {
   "cell_type": "code",
   "execution_count": 91,
   "id": "af98462b-5fa9-4cf0-9876-9310b51b4ecc",
   "metadata": {},
   "outputs": [
    {
     "data": {
      "text/plain": [
       "((1600000, 3), (400000, 3))"
      ]
     },
     "execution_count": 91,
     "metadata": {},
     "output_type": "execute_result"
    }
   ],
   "source": [
    "from sklearn.model_selection import train_test_split\n",
    "\n",
    "total_size = len(df)\n",
    "train_size = total_size * 8 // 10\n",
    "test_size = total_size - train_size\n",
    "partition_sizes = [train_size // 8] * 8 + [test_size // 2] * 2\n",
    "\n",
    "df_shuffled = df.sample(frac=1, random_state=42).reset_index(drop=True)\n",
    "\n",
    "partitions = [df_shuffled.iloc[i:i+size] for i, size in enumerate(partition_sizes)]\n",
    "\n",
    "train_datasets = partitions[:8]\n",
    "test_datasets = partitions[8:]\n",
    "\n",
    "train_df = pd.concat(train_datasets, ignore_index=True)\n",
    "test_df = pd.concat(test_datasets, ignore_index=True)\n",
    "\n",
    "train_df.shape, test_df.shape"
   ]
  },
  {
   "cell_type": "markdown",
   "id": "eec55c86-bf73-440f-9e46-2edcc1337f17",
   "metadata": {},
   "source": [
    "### Without Regularization"
   ]
  },
  {
   "cell_type": "code",
   "execution_count": 113,
   "id": "01abf5c4-b20a-4d91-a071-48b86255368f",
   "metadata": {},
   "outputs": [
    {
     "data": {
      "text/plain": [
       "2.4183402637749998"
      ]
     },
     "execution_count": 113,
     "metadata": {},
     "output_type": "execute_result"
    }
   ],
   "source": [
    "# Training MSE for naive mean model\n",
    "np.mean((train_df['rating']-np.mean(train_df['rating']))**2)"
   ]
  },
  {
   "cell_type": "code",
   "execution_count": 92,
   "id": "0e58a901-e403-487b-90a8-7f35c285dea9",
   "metadata": {},
   "outputs": [
    {
     "data": {
      "text/plain": [
       "2.4183413119500003"
      ]
     },
     "execution_count": 92,
     "metadata": {},
     "output_type": "execute_result"
    }
   ],
   "source": [
    "# Test MSE for naive mean model\n",
    "np.mean((test_df['rating']-np.mean(train_df['rating']))**2)"
   ]
  },
  {
   "cell_type": "code",
   "execution_count": 114,
   "id": "f073d060-3749-45e9-b9c4-e4fad009a067",
   "metadata": {},
   "outputs": [
    {
     "data": {
      "text/plain": [
       "0.5756254378876151"
      ]
     },
     "execution_count": 114,
     "metadata": {},
     "output_type": "execute_result"
    }
   ],
   "source": [
    "# Traing MSE for user mean model\n",
    "np.mean(train_df.groupby('userID')['rating'].transform(lambda x: (x - x.mean())**2))"
   ]
  },
  {
   "cell_type": "code",
   "execution_count": 95,
   "id": "b196ff06-662e-4f92-bf75-5947255e18a0",
   "metadata": {},
   "outputs": [
    {
     "data": {
      "text/plain": [
       "0.5756581326783724"
      ]
     },
     "execution_count": 95,
     "metadata": {},
     "output_type": "execute_result"
    }
   ],
   "source": [
    "# Test MSE for user mean model\n",
    "from sklearn.metrics import mean_squared_error\n",
    "\n",
    "user_mean = train_df.groupby('userID')['rating'].mean()\n",
    "global_mean = train_df['rating'].mean()  # Global mean of train data as a fallback\n",
    "test_df_user_mean = test_df.copy()\n",
    "test_df_user_mean['predicted_rating'] = test_df_user_mean['userID'].map(user_mean).fillna(global_mean)\n",
    "mean_squared_error(test_df_user_mean['rating'], test_df_user_mean['predicted_rating'])"
   ]
  },
  {
   "cell_type": "code",
   "execution_count": 115,
   "id": "3b34b7a6-50ad-4f9c-b3b5-1c6464706303",
   "metadata": {},
   "outputs": [
    {
     "data": {
      "text/plain": [
       "1.5260623708575298"
      ]
     },
     "execution_count": 115,
     "metadata": {},
     "output_type": "execute_result"
    }
   ],
   "source": [
    "# Training MSE for song mean model\n",
    "np.mean(train_df.groupby('songID')['rating'].transform(lambda x: (x - x.mean())**2))"
   ]
  },
  {
   "cell_type": "code",
   "execution_count": 96,
   "id": "ff44b988-03b1-4758-bdb0-374df43c9539",
   "metadata": {},
   "outputs": [
    {
     "data": {
      "text/plain": [
       "1.5260944018532976"
      ]
     },
     "execution_count": 96,
     "metadata": {},
     "output_type": "execute_result"
    }
   ],
   "source": [
    "# Test MSE for song mean model\n",
    "song_mean = train_df.groupby('songID')['rating'].mean()\n",
    "test_df_song_mean = test_df.copy()\n",
    "test_df_song_mean['predicted_rating'] = test_df_song_mean['songID'].map(song_mean).fillna(global_mean)\n",
    "mean_squared_error(test_df_song_mean['rating'], test_df_song_mean['predicted_rating'])"
   ]
  },
  {
   "cell_type": "markdown",
   "id": "cd5db1f0-011b-4cc9-98df-315d8f5cd5ce",
   "metadata": {},
   "source": [
    "### With Regularization"
   ]
  },
  {
   "cell_type": "markdown",
   "id": "aa932546-6e36-4352-bc1a-e27ff329e2c3",
   "metadata": {},
   "source": [
    "### Mean-user"
   ]
  },
  {
   "cell_type": "code",
   "execution_count": 107,
   "id": "1dd62ffe-6369-4347-9563-3ffb81289120",
   "metadata": {},
   "outputs": [],
   "source": [
    "alpha_list = [1e-6, 1e-2, 1, 5, 10, 50, 100]\n",
    "errors = []\n",
    "for alpha in alpha_list:\n",
    "    errors.append(np.mean(train_df.groupby('userID')['rating'].transform(lambda x: (x-1/(alpha+len(x))*(alpha*global_mean+sum(x)))**2)))"
   ]
  },
  {
   "cell_type": "code",
   "execution_count": 108,
   "id": "aa4f4c05-6601-463d-8fe5-87404cfe6e1b",
   "metadata": {},
   "outputs": [
    {
     "data": {
      "text/plain": [
       "Text(0.5, 0, 'Alpha')"
      ]
     },
     "execution_count": 108,
     "metadata": {},
     "output_type": "execute_result"
    },
    {
     "data": {
      "image/png": "[encoded data removed]",
      "text/plain": [
       "<Figure size 640x480 with 1 Axes>"
      ]
     },
     "metadata": {},
     "output_type": "display_data"
    }
   ],
   "source": [
    "plt.plot(alpha_list, errors,'-',lw=3,color='blue')\n",
    "plt.grid()\n",
    "plt.xscale('log')\n",
    "plt.title('MSE from Mean-User Method',fontsize=15)\n",
    "plt.xlabel('Alpha',fontsize=15)"
   ]
  },
  {
   "cell_type": "code",
   "execution_count": 109,
   "id": "b0a4b78b-094c-41a9-bec1-81c66d5b5b60",
   "metadata": {},
   "outputs": [
    {
     "data": {
      "text/plain": [
       "[0.5756254378876328,\n",
       " 0.5756271846268535,\n",
       " 0.5897476045645291,\n",
       " 0.7570442951980728,\n",
       " 0.9790808591753206,\n",
       " 1.751999797263354,\n",
       " 2.0198653062692045]"
      ]
     },
     "execution_count": 109,
     "metadata": {},
     "output_type": "execute_result"
    }
   ],
   "source": [
    "errors"
   ]
  },
  {
   "cell_type": "markdown",
   "id": "76e23884-0b3d-465e-b964-3ede76283e8f",
   "metadata": {},
   "source": [
    "### Mean-song"
   ]
  },
  {
   "cell_type": "code",
   "execution_count": 110,
   "id": "109680d5-9f5e-4d1f-b7a5-278139bc4900",
   "metadata": {},
   "outputs": [],
   "source": [
    "errors = []\n",
    "for alpha in alpha_list:\n",
    "    errors.append(np.mean(df.groupby('songID')['rating'].transform(lambda x: (x-1/(alpha+len(x))*(alpha*global_mean+sum(x)))**2)))"
   ]
  },
  {
   "cell_type": "code",
   "execution_count": 111,
   "id": "49aa77e0-d839-4468-a6d4-ecbcd7bbfc5e",
   "metadata": {},
   "outputs": [
    {
     "data": {
      "text/plain": [
       "Text(0.5, 0, 'Alpha')"
      ]
     },
     "execution_count": 111,
     "metadata": {},
     "output_type": "execute_result"
    },
    {
     "data": {
      "image/png": "[encoded data removed]",
      "text/plain": [
       "<Figure size 640x480 with 1 Axes>"
      ]
     },
     "metadata": {},
     "output_type": "display_data"
    }
   ],
   "source": [
    "plt.plot(alpha_list, errors,'-',lw=3,color='blue')\n",
    "plt.grid()\n",
    "plt.xscale('log')\n",
    "plt.title('MSE from Mean-Song Method',fontsize=15)\n",
    "plt.xlabel('Alpha',fontsize=15)"
   ]
  },
  {
   "cell_type": "code",
   "execution_count": 112,
   "id": "ec548057-5e45-4abd-8150-d5868501ec30",
   "metadata": {},
   "outputs": [
    {
     "data": {
      "text/plain": [
       "[2.02284104390864,\n",
       " 2.0228449772996484,\n",
       " 2.0374338753669643,\n",
       " 2.0984151782433607,\n",
       " 2.142788373477195,\n",
       " 2.252369691531906,\n",
       " 2.291642418784776]"
      ]
     },
     "execution_count": 112,
     "metadata": {},
     "output_type": "execute_result"
    }
   ],
   "source": [
    "errors"
   ]
  }
 ],
 "metadata": {
  "kernelspec": {
   "display_name": "Python 3 (ipykernel)",
   "language": "python",
   "name": "python3"
  },
  "language_info": {
   "codemirror_mode": {
    "name": "ipython",
    "version": 3
   },
   "file_extension": ".py",
   "mimetype": "text/x-python",
   "name": "python",
   "nbconvert_exporter": "python",
   "pygments_lexer": "ipython3",
   "version": "3.9.18"
  }
 },
 "nbformat": 4,
 "nbformat_minor": 5
}
